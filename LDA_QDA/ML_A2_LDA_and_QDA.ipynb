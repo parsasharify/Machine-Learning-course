{
  "cells": [
    {
      "cell_type": "markdown",
      "metadata": {
        "id": "b07eb33c"
      },
      "source": [
        "<div>\n",
        "<img src='http://www-scf.usc.edu/~ghasemig/images/sharif.png' alt=\"SUT logo\" width=220 height=220 align=left class=\"saturate\">\n",
        "\n",
        "<br>\n",
        "<font face=\"Times New Roman\">\n",
        "<div dir=ltr align=center> \n",
        "<!-- <font color=0F5298 size=7> -->\n",
        "<font color=0F5298 size=6>\n",
        "    Introduction to Machine Learning <br> <br>\n",
        "<!-- <font color=2565AE size=5> -->\n",
        "<font size=5>\n",
        "    Computer Engineering Department <br>\n",
        "    Spring 2023 <br> <br>\n",
        "<font color=606060 size=5>\n",
        "    Homework 2: Practical - LDA & QDA <br> <br>\n",
        "<font color=686880 size=4>\n",
        "    TAs: Arman Malekzadeh - Arshia Soltani Moakhar\n",
        "    \n",
        "____"
      ]
    },
    {
      "cell_type": "markdown",
      "metadata": {
        "id": "f5a79508"
      },
      "source": [
        "### Full Name : Parsa Sharifi\n",
        "### Student Number : 99101762\n",
        "___"
      ]
    },
    {
      "cell_type": "code",
      "execution_count": null,
      "metadata": {
        "id": "DILQa6lWBggF"
      },
      "outputs": [],
      "source": [
        "import pandas as pd\n",
        "import numpy as np\n",
        "from sklearn.model_selection import train_test_split\n",
        "from sklearn.discriminant_analysis import LinearDiscriminantAnalysis\n",
        "from sklearn.metrics import classification_report\n",
        "from sklearn.discriminant_analysis import QuadraticDiscriminantAnalysis\n",
        "from sklearn.metrics import classification_report\n",
        "from sklearn.metrics import roc_auc_score"
      ]
    },
    {
      "cell_type": "markdown",
      "metadata": {
        "id": "HnzaQ-o1BggH"
      },
      "source": [
        "# Exploration (20 points)"
      ]
    },
    {
      "cell_type": "code",
      "execution_count": null,
      "metadata": {
        "id": "ft5kutyBBggJ",
        "colab": {
          "base_uri": "https://localhost:8080/"
        },
        "outputId": "91445508-c2ca-4ce5-9035-6f5b6d75b2e3"
      },
      "outputs": [
        {
          "output_type": "stream",
          "name": "stdout",
          "text": [
            "--2023-04-14 14:50:30--  https://github.com/sharif-ml/sharif-ml.github.io/raw/main/assignments/dataset-train.csv\n",
            "Resolving github.com (github.com)... 140.82.121.3\n",
            "Connecting to github.com (github.com)|140.82.121.3|:443... connected.\n",
            "HTTP request sent, awaiting response... 302 Found\n",
            "Location: https://raw.githubusercontent.com/sharif-ml/sharif-ml.github.io/main/assignments/dataset-train.csv [following]\n",
            "--2023-04-14 14:50:31--  https://raw.githubusercontent.com/sharif-ml/sharif-ml.github.io/main/assignments/dataset-train.csv\n",
            "Resolving raw.githubusercontent.com (raw.githubusercontent.com)... 185.199.109.133, 185.199.111.133, 185.199.108.133, ...\n",
            "Connecting to raw.githubusercontent.com (raw.githubusercontent.com)|185.199.109.133|:443... connected.\n",
            "HTTP request sent, awaiting response... 200 OK\n",
            "Length: 89401 (87K) [text/plain]\n",
            "Saving to: ‘dataset-train.csv.3’\n",
            "\n",
            "\rdataset-train.csv.3   0%[                    ]       0  --.-KB/s               \rdataset-train.csv.3 100%[===================>]  87.31K  --.-KB/s    in 0.006s  \n",
            "\n",
            "2023-04-14 14:50:31 (14.9 MB/s) - ‘dataset-train.csv.3’ saved [89401/89401]\n",
            "\n"
          ]
        }
      ],
      "source": [
        "!wget https://github.com/sharif-ml/sharif-ml.github.io/raw/main/assignments/dataset-train.csv"
      ]
    },
    {
      "cell_type": "markdown",
      "metadata": {
        "id": "mnAKD1iPBggK"
      },
      "source": [
        "\n",
        "\n",
        "Load the dataset as a dataframe"
      ]
    },
    {
      "cell_type": "code",
      "execution_count": null,
      "metadata": {
        "id": "b2m5R15PBggK",
        "colab": {
          "base_uri": "https://localhost:8080/"
        },
        "outputId": "3214b2be-ba12-4748-cd50-f94c1b9322d3"
      },
      "outputs": [
        {
          "output_type": "stream",
          "name": "stdout",
          "text": [
            "   Daily Time Spent on Site  Age  Area Income  Daily Internet Usage  \\\n",
            "0                     68.95   35     61833.90                256.09   \n",
            "1                     80.23   31     68441.85                193.77   \n",
            "2                     69.47   26     59785.94                236.50   \n",
            "3                     74.15   29     54806.18                245.89   \n",
            "4                     68.37   35     73889.99                225.58   \n",
            "\n",
            "                           Ad Topic Line            City     Country  \\\n",
            "0     Cloned 5thgeneration orchestration     Wrightburgh     Tunisia   \n",
            "1     Monitored national standardization       West Jodi       Nauru   \n",
            "2       Organic bottom-line service-desk        Davidton  San Marino   \n",
            "3  Triple-buffered reciprocal time-frame  West Terrifurt       Italy   \n",
            "4          Robust logistical utilization    South Manuel     Iceland   \n",
            "\n",
            "             Timestamp  Clicked on Ad  Gender  \n",
            "0  2016-03-27 00:53:11              0  female  \n",
            "1  2016-04-04 01:39:02              0    male  \n",
            "2  2016-03-13 20:35:42              0  female  \n",
            "3  2016-01-10 02:31:19              0    male  \n",
            "4  2016-06-03 03:36:18              0  female  \n"
          ]
        }
      ],
      "source": [
        "df = pd.read_csv(\"dataset-train.csv\")\n",
        "print(df.head())"
      ]
    },
    {
      "cell_type": "markdown",
      "metadata": {
        "id": "_RAEyEnGBggL"
      },
      "source": [
        "Get the minimum \"Area Income\" for all Italians"
      ]
    },
    {
      "cell_type": "code",
      "execution_count": null,
      "metadata": {
        "id": "Sw2v_z0uBggM"
      },
      "outputs": [],
      "source": [
        "italian_df = df[df['Country'] == 'Italy']\n",
        "min_income = italian_df['Area Income'].min()"
      ]
    },
    {
      "cell_type": "code",
      "source": [
        "print(min_income)"
      ],
      "metadata": {
        "colab": {
          "base_uri": "https://localhost:8080/"
        },
        "id": "HPQUOgS2bPo6",
        "outputId": "535a79fd-4153-4d11-97f5-22d9f0aa95f3"
      },
      "execution_count": null,
      "outputs": [
        {
          "output_type": "stream",
          "name": "stdout",
          "text": [
            "54286.1\n"
          ]
        }
      ]
    },
    {
      "cell_type": "markdown",
      "metadata": {
        "id": "LDFnEQokBggM"
      },
      "source": [
        "Make a new dataframe called \"sample_df\" by sampling 100 rows from the previously made dataframe"
      ]
    },
    {
      "cell_type": "code",
      "execution_count": null,
      "metadata": {
        "id": "nuXW_oJ0BggM"
      },
      "outputs": [],
      "source": [
        "sample_df = df.sample(n=100, random_state=42)"
      ]
    },
    {
      "cell_type": "code",
      "source": [
        "print(sample_df.head())"
      ],
      "metadata": {
        "colab": {
          "base_uri": "https://localhost:8080/"
        },
        "id": "DcOeV-LxbTSw",
        "outputId": "ae80fb23-968a-48a9-d86f-1b6a60b83703"
      },
      "execution_count": null,
      "outputs": [
        {
          "output_type": "stream",
          "name": "stdout",
          "text": [
            "     Daily Time Spent on Site  Age  Area Income  Daily Internet Usage  \\\n",
            "696                     39.19   54     52581.16                173.05   \n",
            "667                     79.61   31     58342.63                235.97   \n",
            "63                      86.06   32     61601.05                178.92   \n",
            "533                     91.43   39     46964.11                209.91   \n",
            "66                      63.89   40     51317.33                105.22   \n",
            "\n",
            "                        Ad Topic Line             City           Country  \\\n",
            "696  Stand-alone empowering benchmark         Leahside         Guatemala   \n",
            "667  Customizable value-added project         Luisfurt            Monaco   \n",
            "63       Focused upward-trending core  North Leonmouth          Bulgaria   \n",
            "533          Organic motivating model  West Carmenfurt  French Polynesia   \n",
            "66      Synchronized user-facing core    Jensenborough            Rwanda   \n",
            "\n",
            "               Timestamp  Clicked on Ad  Gender  \n",
            "696  2016-01-23 21:15:57              1  female  \n",
            "667  2016-04-04 21:23:13              0  female  \n",
            "63   2016-03-31 20:55:22              0    male  \n",
            "533  2016-07-07 03:55:01              0    male  \n",
            "66   2016-01-08 00:17:27              1  female  \n"
          ]
        }
      ]
    },
    {
      "cell_type": "markdown",
      "metadata": {
        "id": "suacG-6_BggM"
      },
      "source": [
        "Compare all men and women aged less than 30 years in terms of their average \"Daily Internet Usage\". Your result should contain the average daily usage for each age and gender, seperately."
      ]
    },
    {
      "cell_type": "code",
      "execution_count": null,
      "metadata": {
        "id": "LWYjnPOTBggN"
      },
      "outputs": [],
      "source": [
        "young_df = df[df['Age'] < 30]\n",
        "result = young_df.groupby(['Gender', 'Age'])['Daily Internet Usage'].mean()"
      ]
    },
    {
      "cell_type": "code",
      "source": [
        "print(result)"
      ],
      "metadata": {
        "colab": {
          "base_uri": "https://localhost:8080/"
        },
        "id": "M9gh93U-hW3_",
        "outputId": "7b4b7fb5-5391-4490-c220-206d328edb77"
      },
      "execution_count": null,
      "outputs": [
        {
          "output_type": "stream",
          "name": "stdout",
          "text": [
            "Gender  Age\n",
            "female  19     184.940000\n",
            "        20     202.160000\n",
            "        21     186.980000\n",
            "        22     200.070000\n",
            "        23     187.105714\n",
            "        24     178.693333\n",
            "        25     193.618571\n",
            "        26     192.741875\n",
            "        27     189.157692\n",
            "        28     205.873333\n",
            "        29     191.191200\n",
            "male    19     189.523333\n",
            "        20     198.982500\n",
            "        21     212.815000\n",
            "        22     188.837500\n",
            "        23     184.615000\n",
            "        24     200.055556\n",
            "        25     206.527857\n",
            "        26     203.916250\n",
            "        27     205.916154\n",
            "        28     196.416842\n",
            "        29     202.005714\n",
            "Name: Daily Internet Usage, dtype: float64\n"
          ]
        }
      ]
    },
    {
      "cell_type": "markdown",
      "metadata": {
        "id": "dlfpnrArBggN"
      },
      "source": [
        "# Preprocessing (30 points)"
      ]
    },
    {
      "cell_type": "markdown",
      "metadata": {
        "id": "JdRU5FFQBggN"
      },
      "source": [
        "Remove the following columns: \"Ad Topic Line\", \"Timestamp\""
      ]
    },
    {
      "cell_type": "code",
      "execution_count": null,
      "metadata": {
        "id": "-3Ad4otcBggN"
      },
      "outputs": [],
      "source": [
        "df = df.drop(['Ad Topic Line', 'Timestamp'], axis=1)"
      ]
    },
    {
      "cell_type": "code",
      "source": [
        "print(df.head())"
      ],
      "metadata": {
        "colab": {
          "base_uri": "https://localhost:8080/"
        },
        "id": "yuKMohKIlxXq",
        "outputId": "85a64ade-cbfa-4993-b9c4-1b5b11c0b035"
      },
      "execution_count": null,
      "outputs": [
        {
          "output_type": "stream",
          "name": "stdout",
          "text": [
            "   Daily Time Spent on Site  Age  Area Income  Daily Internet Usage  \\\n",
            "0                     68.95   35     61833.90                256.09   \n",
            "1                     80.23   31     68441.85                193.77   \n",
            "2                     69.47   26     59785.94                236.50   \n",
            "3                     74.15   29     54806.18                245.89   \n",
            "4                     68.37   35     73889.99                225.58   \n",
            "\n",
            "             City     Country  Clicked on Ad  Gender  \n",
            "0     Wrightburgh     Tunisia              0  female  \n",
            "1       West Jodi       Nauru              0    male  \n",
            "2        Davidton  San Marino              0  female  \n",
            "3  West Terrifurt       Italy              0    male  \n",
            "4    South Manuel     Iceland              0  female  \n"
          ]
        }
      ]
    },
    {
      "cell_type": "markdown",
      "metadata": {
        "id": "9PkOuMDXBggO"
      },
      "source": [
        "Convert the \"City\" and \"Country\" columns to their one-hot encoded versions.\n",
        "For each set of one-hot encoded columns, remove one of them to make the columns not correlated. Finally, remove the original columns named \"City\" and \"Country\"."
      ]
    },
    {
      "cell_type": "code",
      "execution_count": null,
      "metadata": {
        "id": "TBMwY-rQBggO",
        "colab": {
          "base_uri": "https://localhost:8080/"
        },
        "outputId": "b97e1dee-d223-4250-cbe1-b00acd277231"
      },
      "outputs": [
        {
          "output_type": "stream",
          "name": "stdout",
          "text": [
            "   Daily Time Spent on Site  Age  Area Income  Daily Internet Usage  \\\n",
            "0                     68.95   35     61833.90                256.09   \n",
            "1                     80.23   31     68441.85                193.77   \n",
            "2                     69.47   26     59785.94                236.50   \n",
            "3                     74.15   29     54806.18                245.89   \n",
            "4                     68.37   35     73889.99                225.58   \n",
            "\n",
            "             City     Country  Clicked on Ad  Gender  City_Adamsbury  \\\n",
            "0     Wrightburgh     Tunisia              0  female               0   \n",
            "1       West Jodi       Nauru              0    male               0   \n",
            "2        Davidton  San Marino              0  female               0   \n",
            "3  West Terrifurt       Italy              0    male               0   \n",
            "4    South Manuel     Iceland              0  female               0   \n",
            "\n",
            "   City_Alanview  ...  Country_Uruguay  Country_Uzbekistan  Country_Vanuatu  \\\n",
            "0              0  ...                0                   0                0   \n",
            "1              0  ...                0                   0                0   \n",
            "2              0  ...                0                   0                0   \n",
            "3              0  ...                0                   0                0   \n",
            "4              0  ...                0                   0                0   \n",
            "\n",
            "   Country_Venezuela  Country_Vietnam  Country_Wallis and Futuna  \\\n",
            "0                  0                0                          0   \n",
            "1                  0                0                          0   \n",
            "2                  0                0                          0   \n",
            "3                  0                0                          0   \n",
            "4                  0                0                          0   \n",
            "\n",
            "   Country_Western Sahara  Country_Yemen  Country_Zambia  Country_Zimbabwe  \n",
            "0                       0              0               0                 0  \n",
            "1                       0              0               0                 0  \n",
            "2                       0              0               0                 0  \n",
            "3                       0              0               0                 0  \n",
            "4                       0              0               0                 0  \n",
            "\n",
            "[5 rows x 1021 columns]\n"
          ]
        }
      ],
      "source": [
        "city_dummies = pd.get_dummies(df['City'], prefix='City')\n",
        "country_dummies = pd.get_dummies(df['Country'], prefix='Country')\n",
        "\n",
        "df = pd.concat([df, city_dummies, country_dummies], axis=1)\n",
        "\n",
        "print(df.head())"
      ]
    },
    {
      "cell_type": "code",
      "source": [
        "df1 = df.loc[:,~df.columns.duplicated()]"
      ],
      "metadata": {
        "id": "efJ3bJ5rP3Pw"
      },
      "execution_count": null,
      "outputs": []
    },
    {
      "cell_type": "code",
      "execution_count": null,
      "metadata": {
        "id": "7-5GKMh2BggO"
      },
      "outputs": [],
      "source": [
        "df = df.drop(['Country_Yemen'], axis=1)"
      ]
    },
    {
      "cell_type": "code",
      "execution_count": null,
      "metadata": {
        "id": "7e0VMVeYBggO"
      },
      "outputs": [],
      "source": [
        "df = df.drop(['City_Adamsbury'], axis=1)"
      ]
    },
    {
      "cell_type": "code",
      "source": [
        "df.drop([\"City\", \"Country\"], axis=1, inplace=True)"
      ],
      "metadata": {
        "id": "8GM82Ucbv9-7"
      },
      "execution_count": null,
      "outputs": []
    },
    {
      "cell_type": "code",
      "execution_count": null,
      "metadata": {
        "id": "49BFrdQfBggP",
        "colab": {
          "base_uri": "https://localhost:8080/"
        },
        "outputId": "445705c5-7ef9-447e-e446-1d88c09adca5"
      },
      "outputs": [
        {
          "output_type": "stream",
          "name": "stdout",
          "text": [
            "   Daily Time Spent on Site  Age  Area Income  Daily Internet Usage  \\\n",
            "0                     68.95   35     61833.90                256.09   \n",
            "1                     80.23   31     68441.85                193.77   \n",
            "2                     69.47   26     59785.94                236.50   \n",
            "3                     74.15   29     54806.18                245.89   \n",
            "4                     68.37   35     73889.99                225.58   \n",
            "\n",
            "   Clicked on Ad  Gender  City_Alanview  City_Alexanderfurt  \\\n",
            "0              0  female              0                   0   \n",
            "1              0    male              0                   0   \n",
            "2              0  female              0                   0   \n",
            "3              0    male              0                   0   \n",
            "4              0  female              0                   0   \n",
            "\n",
            "   City_Alexanderview  City_Alexisland  ...  Country_United States of America  \\\n",
            "0                   0                0  ...                                 0   \n",
            "1                   0                0  ...                                 0   \n",
            "2                   0                0  ...                                 0   \n",
            "3                   0                0  ...                                 0   \n",
            "4                   0                0  ...                                 0   \n",
            "\n",
            "   Country_Uruguay  Country_Uzbekistan  Country_Vanuatu  Country_Venezuela  \\\n",
            "0                0                   0                0                  0   \n",
            "1                0                   0                0                  0   \n",
            "2                0                   0                0                  0   \n",
            "3                0                   0                0                  0   \n",
            "4                0                   0                0                  0   \n",
            "\n",
            "   Country_Vietnam  Country_Wallis and Futuna  Country_Western Sahara  \\\n",
            "0                0                          0                       0   \n",
            "1                0                          0                       0   \n",
            "2                0                          0                       0   \n",
            "3                0                          0                       0   \n",
            "4                0                          0                       0   \n",
            "\n",
            "   Country_Zambia  Country_Zimbabwe  \n",
            "0               0                 0  \n",
            "1               0                 0  \n",
            "2               0                 0  \n",
            "3               0                 0  \n",
            "4               0                 0  \n",
            "\n",
            "[5 rows x 1017 columns]\n"
          ]
        }
      ],
      "source": [
        "print(df.head())"
      ]
    },
    {
      "cell_type": "code",
      "source": [
        "num_columns = df.shape[1]\n",
        "print(num_columns)"
      ],
      "metadata": {
        "colab": {
          "base_uri": "https://localhost:8080/"
        },
        "id": "AXP9iJFiT6wE",
        "outputId": "62150b4a-36d7-4aac-e219-9610e21b6c25"
      },
      "execution_count": null,
      "outputs": [
        {
          "output_type": "stream",
          "name": "stdout",
          "text": [
            "1017\n"
          ]
        }
      ]
    },
    {
      "cell_type": "markdown",
      "metadata": {
        "id": "6BtOHAvTBggP"
      },
      "source": [
        "Convert \"Gender\" column to a new binary column (having only 0 and 1 values). Then remove the original column."
      ]
    },
    {
      "cell_type": "code",
      "execution_count": null,
      "metadata": {
        "id": "n8poMfGqBggP"
      },
      "outputs": [],
      "source": [
        "df['Binary_Gender'] = df['Gender'].map({'male': 1, 'female': 0})"
      ]
    },
    {
      "cell_type": "code",
      "execution_count": null,
      "metadata": {
        "id": "GDqYpy3VBggP"
      },
      "outputs": [],
      "source": [
        "df = df.drop(['Gender'], axis=1)"
      ]
    },
    {
      "cell_type": "code",
      "execution_count": null,
      "metadata": {
        "id": "bFjWqfQjBggP",
        "colab": {
          "base_uri": "https://localhost:8080/"
        },
        "outputId": "2a64fd1a-8cdc-48c9-8c39-3922e7ae1268"
      },
      "outputs": [
        {
          "output_type": "stream",
          "name": "stdout",
          "text": [
            "   Daily Time Spent on Site  Age  Area Income  Daily Internet Usage  \\\n",
            "0                     68.95   35     61833.90                256.09   \n",
            "1                     80.23   31     68441.85                193.77   \n",
            "2                     69.47   26     59785.94                236.50   \n",
            "3                     74.15   29     54806.18                245.89   \n",
            "4                     68.37   35     73889.99                225.58   \n",
            "\n",
            "   Clicked on Ad  City_Alanview  City_Alexanderfurt  City_Alexanderview  \\\n",
            "0              0              0                   0                   0   \n",
            "1              0              0                   0                   0   \n",
            "2              0              0                   0                   0   \n",
            "3              0              0                   0                   0   \n",
            "4              0              0                   0                   0   \n",
            "\n",
            "   City_Alexisland  City_Aliciatown  ...  Country_Uruguay  Country_Uzbekistan  \\\n",
            "0                0                0  ...                0                   0   \n",
            "1                0                0  ...                0                   0   \n",
            "2                0                0  ...                0                   0   \n",
            "3                0                0  ...                0                   0   \n",
            "4                0                0  ...                0                   0   \n",
            "\n",
            "   Country_Vanuatu  Country_Venezuela  Country_Vietnam  \\\n",
            "0                0                  0                0   \n",
            "1                0                  0                0   \n",
            "2                0                  0                0   \n",
            "3                0                  0                0   \n",
            "4                0                  0                0   \n",
            "\n",
            "   Country_Wallis and Futuna  Country_Western Sahara  Country_Zambia  \\\n",
            "0                          0                       0               0   \n",
            "1                          0                       0               0   \n",
            "2                          0                       0               0   \n",
            "3                          0                       0               0   \n",
            "4                          0                       0               0   \n",
            "\n",
            "   Country_Zimbabwe  Binary_Gender  \n",
            "0                 0              0  \n",
            "1                 0              1  \n",
            "2                 0              0  \n",
            "3                 0              1  \n",
            "4                 0              0  \n",
            "\n",
            "[5 rows x 1017 columns]\n"
          ]
        }
      ],
      "source": [
        "print(df.head())"
      ]
    },
    {
      "cell_type": "code",
      "source": [
        "num_columns = df.shape[1]\n",
        "print(num_columns)"
      ],
      "metadata": {
        "colab": {
          "base_uri": "https://localhost:8080/"
        },
        "id": "ZAJk4InuT_lu",
        "outputId": "123297b7-bd33-4a31-cae3-653ad2c898ad"
      },
      "execution_count": null,
      "outputs": [
        {
          "output_type": "stream",
          "name": "stdout",
          "text": [
            "1017\n"
          ]
        }
      ]
    },
    {
      "cell_type": "markdown",
      "metadata": {
        "id": "zyeVxUhjBggQ"
      },
      "source": [
        "By dropping the \"Clicked on Ad\" column, make a new dataframe called \"features_df\""
      ]
    },
    {
      "cell_type": "code",
      "execution_count": null,
      "metadata": {
        "id": "ln12OxHgBggQ"
      },
      "outputs": [],
      "source": [
        "features_df = df.drop(['Clicked on Ad'], axis=1)"
      ]
    },
    {
      "cell_type": "code",
      "source": [
        "print(features_df.head())"
      ],
      "metadata": {
        "colab": {
          "base_uri": "https://localhost:8080/"
        },
        "id": "vD6ZDnVFua4H",
        "outputId": "71f7a991-7325-414f-80ee-f6e6c092cdf6"
      },
      "execution_count": null,
      "outputs": [
        {
          "output_type": "stream",
          "name": "stdout",
          "text": [
            "   Daily Time Spent on Site  Age  Area Income  Daily Internet Usage  \\\n",
            "0                     68.95   35     61833.90                256.09   \n",
            "1                     80.23   31     68441.85                193.77   \n",
            "2                     69.47   26     59785.94                236.50   \n",
            "3                     74.15   29     54806.18                245.89   \n",
            "4                     68.37   35     73889.99                225.58   \n",
            "\n",
            "   City_Alanview  City_Alexanderfurt  City_Alexanderview  City_Alexisland  \\\n",
            "0              0                   0                   0                0   \n",
            "1              0                   0                   0                0   \n",
            "2              0                   0                   0                0   \n",
            "3              0                   0                   0                0   \n",
            "4              0                   0                   0                0   \n",
            "\n",
            "   City_Aliciatown  City_Alvaradoport  ...  Country_Uruguay  \\\n",
            "0                0                  0  ...                0   \n",
            "1                0                  0  ...                0   \n",
            "2                0                  0  ...                0   \n",
            "3                0                  0  ...                0   \n",
            "4                0                  0  ...                0   \n",
            "\n",
            "   Country_Uzbekistan  Country_Vanuatu  Country_Venezuela  Country_Vietnam  \\\n",
            "0                   0                0                  0                0   \n",
            "1                   0                0                  0                0   \n",
            "2                   0                0                  0                0   \n",
            "3                   0                0                  0                0   \n",
            "4                   0                0                  0                0   \n",
            "\n",
            "   Country_Wallis and Futuna  Country_Western Sahara  Country_Zambia  \\\n",
            "0                          0                       0               0   \n",
            "1                          0                       0               0   \n",
            "2                          0                       0               0   \n",
            "3                          0                       0               0   \n",
            "4                          0                       0               0   \n",
            "\n",
            "   Country_Zimbabwe  Binary_Gender  \n",
            "0                 0              0  \n",
            "1                 0              1  \n",
            "2                 0              0  \n",
            "3                 0              1  \n",
            "4                 0              0  \n",
            "\n",
            "[5 rows x 1016 columns]\n"
          ]
        }
      ]
    },
    {
      "cell_type": "markdown",
      "metadata": {
        "id": "dxaFyAvaBggQ"
      },
      "source": [
        "Make a new dataframe called \"target_df\" containing only the \"Clicked on Ad\" column"
      ]
    },
    {
      "cell_type": "code",
      "execution_count": null,
      "metadata": {
        "id": "5EjMKpbJBggQ"
      },
      "outputs": [],
      "source": [
        "target_df = df.loc[:, 'Clicked on Ad']"
      ]
    },
    {
      "cell_type": "markdown",
      "metadata": {
        "id": "F_ZIQC6kBggQ"
      },
      "source": [
        "Make two numpy arrays called \"x\" and \"y\" from \"features_df\" and \"target_df\" dataframes, respectively."
      ]
    },
    {
      "cell_type": "code",
      "execution_count": null,
      "metadata": {
        "id": "ZSPTAc0WBggQ"
      },
      "outputs": [],
      "source": [
        "x = features_df.values\n",
        "y = target_df.values"
      ]
    },
    {
      "cell_type": "code",
      "source": [
        "print(x)\n",
        "print(y)"
      ],
      "metadata": {
        "colab": {
          "base_uri": "https://localhost:8080/"
        },
        "id": "je_P7DkKu4Ir",
        "outputId": "2029c7af-0c40-4f7b-e7fb-31b662794af5"
      },
      "execution_count": null,
      "outputs": [
        {
          "output_type": "stream",
          "name": "stdout",
          "text": [
            "[[6.895000e+01 3.500000e+01 6.183390e+04 ... 0.000000e+00 0.000000e+00\n",
            "  0.000000e+00]\n",
            " [8.023000e+01 3.100000e+01 6.844185e+04 ... 0.000000e+00 0.000000e+00\n",
            "  1.000000e+00]\n",
            " [6.947000e+01 2.600000e+01 5.978594e+04 ... 0.000000e+00 0.000000e+00\n",
            "  0.000000e+00]\n",
            " ...\n",
            " [7.705000e+01 3.400000e+01 6.575636e+04 ... 0.000000e+00 0.000000e+00\n",
            "  0.000000e+00]\n",
            " [6.683000e+01 4.600000e+01 7.787175e+04 ... 0.000000e+00 0.000000e+00\n",
            "  1.000000e+00]\n",
            " [7.620000e+01 2.400000e+01 4.725859e+04 ... 0.000000e+00 0.000000e+00\n",
            "  1.000000e+00]]\n",
            "[0 0 0 0 0 0 0 1 0 0 1 0 1 0 1 1 1 0 1 1 0 0 1 0 1 0 1 1 1 0 0 0 1 1 1 0 1\n",
            " 0 1 1 0 0 0 0 0 1 0 0 1 1 0 0 1 1 1 0 1 1 0 1 0 0 0 0 1 0 1 1 0 1 1 0 1 1\n",
            " 1 0 1 0 1 1 0 0 1 1 0 1 0 1 1 1 1 1 0 1 1 0 1 1 1 0 1 0 0 0 0 0 0 1 1 0 1\n",
            " 1 0 1 0 0 1 1 1 1 0 0 0 1 1 0 1 0 0 0 1 1 1 0 1 1 1 1 0 0 0 1 1 0 0 1 1 1\n",
            " 1 1 0 0 1 0 0 0 1 1 0 1 0 0 0 0 1 1 1 0 1 0 1 0 0 0 1 0 1 0 1 0 1 1 1 0 0\n",
            " 1 1 0 1 1 1 1 1 1 0 1 1 0 0 0 0 0 1 0 0 1 0 0 1 1 0 1 0 1 0 1 1 1 1 1 0 0\n",
            " 1 1 0 1 1 1 0 0 0 1 1 1 1 1 1 0 1 0 1 1 0 0 0 0 1 1 1 1 0 1 0 1 1 0 0 1 0\n",
            " 1 0 1 1 1 0 1 1 0 1 0 1 0 0 0 0 1 0 0 0 0 1 1 1 0 1 0 1 0 1 1 1 0 1 0 0 0\n",
            " 0 0 0 0 0 1 1 1 1 1 0 0 0 1 0 0 1 0 0 1 0 0 0 1 1 0 0 0 0 1 1 0 0 1 0 0 1\n",
            " 0 0 1 0 0 0 0 1 1 0 0 1 0 0 1 0 1 0 0 0 0 1 0 1 1 1 0 1 1 0 1 0 1 0 0 0 0\n",
            " 1 1 0 1 0 0 0 1 1 0 0 1 0 0 1 0 0 1 0 1 0 0 0 0 1 0 1 1 0 0 1 0 1 0 1 0 1\n",
            " 1 1 1 1 0 0 1 0 1 1 0 0 0 1 0 1 1 1 1 1 0 1 0 0 0 1 0 0 1 0 0 1 0 1 0 1 1\n",
            " 1 0 1 0 1 0 1 1 0 0 1 0 1 0 1 0 1 1 0 1 0 1 1 1 1 0 1 0 0 0 1 0 0 1 1 1 0\n",
            " 0 0 1 1 1 0 0 1 0 1 1 0 1 1 0 0 1 0 1 1 0 0 1 1 0 0 1 1 0 1 0 0 1 0 1 0 1\n",
            " 1 1 1 1 0 1 0 0 1 0 1 0 1 1 0 0 0 0 0 0 0 0 0 0 0 1 0 1 0 0 0 0 0 0 1 1 1\n",
            " 0 1 0 0 0 1 1 0 0 1 0 1 0 0 0 1 0 0 1 1 1 1 0 0 0 1 1 1 1 1 0 0 1 0 1 1 1\n",
            " 0 0 1 1 0 0 0 1 1 1 1 0 1 1 0 0 1 1 1 1 0 0 0 1 1 0 1 0 0 0 1 0 0 1 0 1 1\n",
            " 0 0 0 0 1 1 1 1 0 1 0 1 0 0 0 0 1 1 1 0 0 0 0 0 0 0 1 0 0 0 0 1 1 1 1 0 1\n",
            " 0 0 1 1 0 1 0 1 0 0 1 1 0 1 0 1 1 0 1 0 0 0 0 0 0 0 1 1 0 0 1 0 0 0 0 1 1\n",
            " 0 0 0 1 0 1 1 1 0 0 1 0 1 1 0 0 1 0 1 1 0 0 0 0 0 0 0 0 0 0 1 1 0 0 1 1 0\n",
            " 1 0 0 1 1 1 1 1 1 0 1 0 0 0 0 0 1 1 1 1 0 0 1 1 1 1 1 1 1 0 0 0 0 1 1 1 1\n",
            " 0 1 0 1 1 0 0 1 1 0 1 0 1 1 1 0 1 1 0 0 0 0 0]\n"
          ]
        }
      ]
    },
    {
      "cell_type": "markdown",
      "metadata": {
        "id": "y73KYiwCBggR"
      },
      "source": [
        "# Training Models (40 points)"
      ]
    },
    {
      "cell_type": "markdown",
      "metadata": {
        "id": "Fyi_lSXkBggR"
      },
      "source": [
        "Split the dataset (`x` and `y`) into \"training\" and \"testing\" parts containing 80% and 20% of the data respectively."
      ]
    },
    {
      "cell_type": "code",
      "execution_count": null,
      "metadata": {
        "id": "0t_L5ScNBggR"
      },
      "outputs": [],
      "source": [
        "x_train, x_test, y_train, y_test = train_test_split(x, y, test_size=0.2, random_state=42)"
      ]
    },
    {
      "cell_type": "markdown",
      "metadata": {
        "id": "MYF_Px_LBggR"
      },
      "source": [
        "Train both LDA and QDA models on the data using `sklearn`"
      ]
    },
    {
      "cell_type": "code",
      "execution_count": null,
      "metadata": {
        "id": "vfNlEQUeBggR",
        "colab": {
          "base_uri": "https://localhost:8080/",
          "height": 74
        },
        "outputId": "f240318f-90cc-402d-dd1d-98f5f183a466"
      },
      "outputs": [
        {
          "output_type": "execute_result",
          "data": {
            "text/plain": [
              "LinearDiscriminantAnalysis()"
            ],
            "text/html": [
              "<style>#sk-container-id-7 {color: black;background-color: white;}#sk-container-id-7 pre{padding: 0;}#sk-container-id-7 div.sk-toggleable {background-color: white;}#sk-container-id-7 label.sk-toggleable__label {cursor: pointer;display: block;width: 100%;margin-bottom: 0;padding: 0.3em;box-sizing: border-box;text-align: center;}#sk-container-id-7 label.sk-toggleable__label-arrow:before {content: \"▸\";float: left;margin-right: 0.25em;color: #696969;}#sk-container-id-7 label.sk-toggleable__label-arrow:hover:before {color: black;}#sk-container-id-7 div.sk-estimator:hover label.sk-toggleable__label-arrow:before {color: black;}#sk-container-id-7 div.sk-toggleable__content {max-height: 0;max-width: 0;overflow: hidden;text-align: left;background-color: #f0f8ff;}#sk-container-id-7 div.sk-toggleable__content pre {margin: 0.2em;color: black;border-radius: 0.25em;background-color: #f0f8ff;}#sk-container-id-7 input.sk-toggleable__control:checked~div.sk-toggleable__content {max-height: 200px;max-width: 100%;overflow: auto;}#sk-container-id-7 input.sk-toggleable__control:checked~label.sk-toggleable__label-arrow:before {content: \"▾\";}#sk-container-id-7 div.sk-estimator input.sk-toggleable__control:checked~label.sk-toggleable__label {background-color: #d4ebff;}#sk-container-id-7 div.sk-label input.sk-toggleable__control:checked~label.sk-toggleable__label {background-color: #d4ebff;}#sk-container-id-7 input.sk-hidden--visually {border: 0;clip: rect(1px 1px 1px 1px);clip: rect(1px, 1px, 1px, 1px);height: 1px;margin: -1px;overflow: hidden;padding: 0;position: absolute;width: 1px;}#sk-container-id-7 div.sk-estimator {font-family: monospace;background-color: #f0f8ff;border: 1px dotted black;border-radius: 0.25em;box-sizing: border-box;margin-bottom: 0.5em;}#sk-container-id-7 div.sk-estimator:hover {background-color: #d4ebff;}#sk-container-id-7 div.sk-parallel-item::after {content: \"\";width: 100%;border-bottom: 1px solid gray;flex-grow: 1;}#sk-container-id-7 div.sk-label:hover label.sk-toggleable__label {background-color: #d4ebff;}#sk-container-id-7 div.sk-serial::before {content: \"\";position: absolute;border-left: 1px solid gray;box-sizing: border-box;top: 0;bottom: 0;left: 50%;z-index: 0;}#sk-container-id-7 div.sk-serial {display: flex;flex-direction: column;align-items: center;background-color: white;padding-right: 0.2em;padding-left: 0.2em;position: relative;}#sk-container-id-7 div.sk-item {position: relative;z-index: 1;}#sk-container-id-7 div.sk-parallel {display: flex;align-items: stretch;justify-content: center;background-color: white;position: relative;}#sk-container-id-7 div.sk-item::before, #sk-container-id-7 div.sk-parallel-item::before {content: \"\";position: absolute;border-left: 1px solid gray;box-sizing: border-box;top: 0;bottom: 0;left: 50%;z-index: -1;}#sk-container-id-7 div.sk-parallel-item {display: flex;flex-direction: column;z-index: 1;position: relative;background-color: white;}#sk-container-id-7 div.sk-parallel-item:first-child::after {align-self: flex-end;width: 50%;}#sk-container-id-7 div.sk-parallel-item:last-child::after {align-self: flex-start;width: 50%;}#sk-container-id-7 div.sk-parallel-item:only-child::after {width: 0;}#sk-container-id-7 div.sk-dashed-wrapped {border: 1px dashed gray;margin: 0 0.4em 0.5em 0.4em;box-sizing: border-box;padding-bottom: 0.4em;background-color: white;}#sk-container-id-7 div.sk-label label {font-family: monospace;font-weight: bold;display: inline-block;line-height: 1.2em;}#sk-container-id-7 div.sk-label-container {text-align: center;}#sk-container-id-7 div.sk-container {/* jupyter's `normalize.less` sets `[hidden] { display: none; }` but bootstrap.min.css set `[hidden] { display: none !important; }` so we also need the `!important` here to be able to override the default hidden behavior on the sphinx rendered scikit-learn.org. See: https://github.com/scikit-learn/scikit-learn/issues/21755 */display: inline-block !important;position: relative;}#sk-container-id-7 div.sk-text-repr-fallback {display: none;}</style><div id=\"sk-container-id-7\" class=\"sk-top-container\"><div class=\"sk-text-repr-fallback\"><pre>LinearDiscriminantAnalysis()</pre><b>In a Jupyter environment, please rerun this cell to show the HTML representation or trust the notebook. <br />On GitHub, the HTML representation is unable to render, please try loading this page with nbviewer.org.</b></div><div class=\"sk-container\" hidden><div class=\"sk-item\"><div class=\"sk-estimator sk-toggleable\"><input class=\"sk-toggleable__control sk-hidden--visually\" id=\"sk-estimator-id-7\" type=\"checkbox\" checked><label for=\"sk-estimator-id-7\" class=\"sk-toggleable__label sk-toggleable__label-arrow\">LinearDiscriminantAnalysis</label><div class=\"sk-toggleable__content\"><pre>LinearDiscriminantAnalysis()</pre></div></div></div></div></div>"
            ]
          },
          "metadata": {},
          "execution_count": 234
        }
      ],
      "source": [
        "lda = LinearDiscriminantAnalysis()\n",
        "lda.fit(x_train, y_train)"
      ]
    },
    {
      "cell_type": "code",
      "execution_count": null,
      "metadata": {
        "id": "aSnL8mt3BggR",
        "colab": {
          "base_uri": "https://localhost:8080/",
          "height": 111
        },
        "outputId": "a0c6dd3c-b192-4a98-9a5f-fbe40abe4693"
      },
      "outputs": [
        {
          "output_type": "stream",
          "name": "stderr",
          "text": [
            "/usr/local/lib/python3.9/dist-packages/sklearn/discriminant_analysis.py:926: UserWarning: Variables are collinear\n",
            "  warnings.warn(\"Variables are collinear\")\n"
          ]
        },
        {
          "output_type": "execute_result",
          "data": {
            "text/plain": [
              "QuadraticDiscriminantAnalysis()"
            ],
            "text/html": [
              "<style>#sk-container-id-8 {color: black;background-color: white;}#sk-container-id-8 pre{padding: 0;}#sk-container-id-8 div.sk-toggleable {background-color: white;}#sk-container-id-8 label.sk-toggleable__label {cursor: pointer;display: block;width: 100%;margin-bottom: 0;padding: 0.3em;box-sizing: border-box;text-align: center;}#sk-container-id-8 label.sk-toggleable__label-arrow:before {content: \"▸\";float: left;margin-right: 0.25em;color: #696969;}#sk-container-id-8 label.sk-toggleable__label-arrow:hover:before {color: black;}#sk-container-id-8 div.sk-estimator:hover label.sk-toggleable__label-arrow:before {color: black;}#sk-container-id-8 div.sk-toggleable__content {max-height: 0;max-width: 0;overflow: hidden;text-align: left;background-color: #f0f8ff;}#sk-container-id-8 div.sk-toggleable__content pre {margin: 0.2em;color: black;border-radius: 0.25em;background-color: #f0f8ff;}#sk-container-id-8 input.sk-toggleable__control:checked~div.sk-toggleable__content {max-height: 200px;max-width: 100%;overflow: auto;}#sk-container-id-8 input.sk-toggleable__control:checked~label.sk-toggleable__label-arrow:before {content: \"▾\";}#sk-container-id-8 div.sk-estimator input.sk-toggleable__control:checked~label.sk-toggleable__label {background-color: #d4ebff;}#sk-container-id-8 div.sk-label input.sk-toggleable__control:checked~label.sk-toggleable__label {background-color: #d4ebff;}#sk-container-id-8 input.sk-hidden--visually {border: 0;clip: rect(1px 1px 1px 1px);clip: rect(1px, 1px, 1px, 1px);height: 1px;margin: -1px;overflow: hidden;padding: 0;position: absolute;width: 1px;}#sk-container-id-8 div.sk-estimator {font-family: monospace;background-color: #f0f8ff;border: 1px dotted black;border-radius: 0.25em;box-sizing: border-box;margin-bottom: 0.5em;}#sk-container-id-8 div.sk-estimator:hover {background-color: #d4ebff;}#sk-container-id-8 div.sk-parallel-item::after {content: \"\";width: 100%;border-bottom: 1px solid gray;flex-grow: 1;}#sk-container-id-8 div.sk-label:hover label.sk-toggleable__label {background-color: #d4ebff;}#sk-container-id-8 div.sk-serial::before {content: \"\";position: absolute;border-left: 1px solid gray;box-sizing: border-box;top: 0;bottom: 0;left: 50%;z-index: 0;}#sk-container-id-8 div.sk-serial {display: flex;flex-direction: column;align-items: center;background-color: white;padding-right: 0.2em;padding-left: 0.2em;position: relative;}#sk-container-id-8 div.sk-item {position: relative;z-index: 1;}#sk-container-id-8 div.sk-parallel {display: flex;align-items: stretch;justify-content: center;background-color: white;position: relative;}#sk-container-id-8 div.sk-item::before, #sk-container-id-8 div.sk-parallel-item::before {content: \"\";position: absolute;border-left: 1px solid gray;box-sizing: border-box;top: 0;bottom: 0;left: 50%;z-index: -1;}#sk-container-id-8 div.sk-parallel-item {display: flex;flex-direction: column;z-index: 1;position: relative;background-color: white;}#sk-container-id-8 div.sk-parallel-item:first-child::after {align-self: flex-end;width: 50%;}#sk-container-id-8 div.sk-parallel-item:last-child::after {align-self: flex-start;width: 50%;}#sk-container-id-8 div.sk-parallel-item:only-child::after {width: 0;}#sk-container-id-8 div.sk-dashed-wrapped {border: 1px dashed gray;margin: 0 0.4em 0.5em 0.4em;box-sizing: border-box;padding-bottom: 0.4em;background-color: white;}#sk-container-id-8 div.sk-label label {font-family: monospace;font-weight: bold;display: inline-block;line-height: 1.2em;}#sk-container-id-8 div.sk-label-container {text-align: center;}#sk-container-id-8 div.sk-container {/* jupyter's `normalize.less` sets `[hidden] { display: none; }` but bootstrap.min.css set `[hidden] { display: none !important; }` so we also need the `!important` here to be able to override the default hidden behavior on the sphinx rendered scikit-learn.org. See: https://github.com/scikit-learn/scikit-learn/issues/21755 */display: inline-block !important;position: relative;}#sk-container-id-8 div.sk-text-repr-fallback {display: none;}</style><div id=\"sk-container-id-8\" class=\"sk-top-container\"><div class=\"sk-text-repr-fallback\"><pre>QuadraticDiscriminantAnalysis()</pre><b>In a Jupyter environment, please rerun this cell to show the HTML representation or trust the notebook. <br />On GitHub, the HTML representation is unable to render, please try loading this page with nbviewer.org.</b></div><div class=\"sk-container\" hidden><div class=\"sk-item\"><div class=\"sk-estimator sk-toggleable\"><input class=\"sk-toggleable__control sk-hidden--visually\" id=\"sk-estimator-id-8\" type=\"checkbox\" checked><label for=\"sk-estimator-id-8\" class=\"sk-toggleable__label sk-toggleable__label-arrow\">QuadraticDiscriminantAnalysis</label><div class=\"sk-toggleable__content\"><pre>QuadraticDiscriminantAnalysis()</pre></div></div></div></div></div>"
            ]
          },
          "metadata": {},
          "execution_count": 235
        }
      ],
      "source": [
        "qda = QuadraticDiscriminantAnalysis()\n",
        "qda.fit(x_train, y_train)"
      ]
    },
    {
      "cell_type": "markdown",
      "metadata": {
        "id": "umnLf-OQBggS"
      },
      "source": [
        "Train LDA and QDA using your own code!"
      ]
    },
    {
      "cell_type": "markdown",
      "metadata": {
        "id": "aujjMnp7BggS"
      },
      "source": [
        "Linear Discriminant Analysis"
      ]
    },
    {
      "cell_type": "code",
      "source": [
        "class LinearDiscriminantAnalysis:\n",
        "\n",
        "    def __init__(self):\n",
        "        self.linear_discriminants = None\n",
        "\n",
        "    def fit(self, X, y):\n",
        "        n_samples, n_features = X.shape\n",
        "        class_labels = np.unique(y)\n",
        "\n",
        "        total_mean = np.mean(X, axis=0)\n",
        "        SW = np.zeros((n_features, n_features))\n",
        "        SB = np.zeros((n_features, n_features))\n",
        "\n",
        "        for c in class_labels:\n",
        "            X_c = X[y == c]\n",
        "            mean_c = np.mean(X_c, axis=0)\n",
        "            SW += (X_c - mean_c).T.dot((X_c - mean_c))\n",
        "            n_c = X_c.shape[0]\n",
        "            difference_of_mean = (mean_c - total_mean).reshape(n_features, 1)\n",
        "            SB += n_c * (difference_of_mean).dot(difference_of_mean.T)\n",
        "\n",
        "        SW += np.eye(n_features) * 1e-8  # regularization with a small positive constant\n",
        "        SW_inv = np.linalg.inv(SW)\n",
        "        A = SW_inv.dot(SB)\n",
        "\n",
        "        eigenvalues, eigenvectors = np.linalg.eig(A)\n",
        "\n",
        "        eigenvectors = eigenvectors.T\n",
        "        idxs = np.argsort(abs(eigenvalues))[::-1]\n",
        "        eigenvectors = eigenvectors[idxs]\n",
        "\n",
        "        self.linear_discriminants = eigenvectors[0:class_labels.size - 1]\n",
        "        \n",
        "        return self\n",
        "\n",
        "    def predict(self, X):\n",
        "        # found the treshold by gettin mean of means of 2 classes!! =)\n",
        "        threshold = .8\n",
        "        y_pred = np.where(np.dot(X, self.linear_discriminants.T) > threshold, 1, 0)\n",
        "        return y_pred"
      ],
      "metadata": {
        "id": "DDoNeRB07Rjm"
      },
      "execution_count": null,
      "outputs": []
    },
    {
      "cell_type": "markdown",
      "metadata": {
        "id": "rdzyNZ4tBggS"
      },
      "source": [
        "Quadratic Discriminant Analysis (Optional) (15 bonus points)"
      ]
    },
    {
      "cell_type": "code",
      "source": [
        "class QuadraticDiscriminantAnalysis:\n",
        "    \"\"\"\n",
        "    Fits it on data, then uses predict to get results.\n",
        "    \"\"\"\n",
        "\n",
        "    def __init__(self):\n",
        "        pass\n",
        "\n",
        "    def fit(self, X, y):\n",
        "        \"\"\"Fit the training data\n",
        "        Parameters\n",
        "        ----------\n",
        "        X : array-like, shape = [n_samples, n_features]\n",
        "            Features\n",
        "        y : array-like, shape = [n_samples, n_labels]\n",
        "            Labels\n",
        "        Returns\n",
        "        -------\n",
        "        self : object\n",
        "        \"\"\"\n",
        "\n",
        "        n_samples, n_features = X.shape\n",
        "        self.class_labels = np.unique(y)\n",
        "        self.priors = np.zeros(len(self.class_labels))\n",
        "\n",
        "\n",
        "        #self.covariance_matrix = np.zeros((n_features, n_features))\n",
        "        self.covariance_matrices = [np.zeros((n_features, n_features)) for _ in np.unique(y)]\n",
        "        self.mean_of_classes = np.zeros((len(self.class_labels), n_features))\n",
        "\n",
        "\n",
        "        for i, c in enumerate(self.class_labels):\n",
        "            X_c = X[y == c]\n",
        "            self.priors[i] = float(X_c.shape[0]) / float(n_samples)\n",
        "            self.mean_of_classes[i] = np.mean(X_c, axis=0)\n",
        "\n",
        "            #self.covariance_matrix+= np.cov(X_c.T)\n",
        "            self.covariance_matrices[i] = np.cov(X_c.T)\n",
        "\n",
        "        return self\n",
        "\n",
        "    def predict(self, X):\n",
        "        \"\"\" Predicts the value after the model has been trained.\n",
        "        Parameters\n",
        "        ----------\n",
        "        X : array-like, shape = [n_samples, n_features]\n",
        "            Features\n",
        "        Returns\n",
        "        -------\n",
        "        Predicted value\n",
        "        \"\"\"\n",
        "        n_samples, n_features = X.shape\n",
        "\n",
        "\n",
        "        discriminant_functions = np.zeros((self.class_labels.shape[0], n_samples))\n",
        "        for i in range(self.class_labels.shape[0]):\n",
        "            covariance_inverse = np.linalg.pinv(self.covariance_matrices[i])\n",
        "            mean_vector = self.mean_of_classes[i]\n",
        "            priors = self.priors[i]\n",
        "            discriminant_functions[i] = (-0.5 * np.sum(np.dot((X - mean_vector), covariance_inverse) * (X - mean_vector), axis=1)\n",
        "                                         - 0.5 * np.log(np.linalg.det(self.covariance_matrices[i]))\n",
        "                                         + np.log(priors))\n",
        "\n",
        "\n",
        "        #i also saw this kind of implimentation which is below, and it works better than what is said in note6! for using the other method change the place of # for covariance matixes and code below\n",
        "\n",
        "        #discriminant_functions = np.zeros((n_samples, len(self.class_labels)))\n",
        "#\n",
        "        #for i, c in enumerate(self.class_labels):\n",
        "        #    discriminant_functions[:, i] = -0.5 * np.sum((X - self.mean_of_classes[i]).dot(np.linalg.pinv(self.covariance_matrix)) * (X -  self.mean_of_classes[i]), axis=1) + np.log(self.priors[i])\n",
        "#\n",
        "        y_pred = self.class_labels[np.argmax(discriminant_functions, axis=1)]\n",
        "\n",
        "        return y_pred"
      ],
      "metadata": {
        "id": "n8ciFU856YuW"
      },
      "execution_count": null,
      "outputs": []
    },
    {
      "cell_type": "code",
      "execution_count": null,
      "metadata": {
        "id": "MvdMAykABggT"
      },
      "outputs": [],
      "source": [
        "# Train your own models"
      ]
    },
    {
      "cell_type": "code",
      "source": [
        "my_lda = LinearDiscriminantAnalysis()\n",
        "\n",
        "my_lda.fit(x_train, y_train)"
      ],
      "metadata": {
        "id": "EWKZENcIAvW9",
        "colab": {
          "base_uri": "https://localhost:8080/"
        },
        "outputId": "07100517-3916-4fc5-9db3-5e4c1f6af9d2"
      },
      "execution_count": null,
      "outputs": [
        {
          "output_type": "execute_result",
          "data": {
            "text/plain": [
              "<__main__.LinearDiscriminantAnalysis at 0x7f566a9b8430>"
            ]
          },
          "metadata": {},
          "execution_count": 241
        }
      ]
    },
    {
      "cell_type": "code",
      "source": [
        "my_qda = QuadraticDiscriminantAnalysis()\n",
        "\n",
        "my_qda.fit(x_train, y_train)"
      ],
      "metadata": {
        "colab": {
          "base_uri": "https://localhost:8080/"
        },
        "id": "eW-9Ufvq6dU4",
        "outputId": "e9f2c787-abb1-4b28-a86a-cc9694201a3a"
      },
      "execution_count": null,
      "outputs": [
        {
          "output_type": "execute_result",
          "data": {
            "text/plain": [
              "<__main__.QuadraticDiscriminantAnalysis at 0x7f566a917160>"
            ]
          },
          "metadata": {},
          "execution_count": 242
        }
      ]
    },
    {
      "cell_type": "markdown",
      "metadata": {
        "id": "t-lXFW_BBggT"
      },
      "source": [
        "# Evaluation (10 points)"
      ]
    },
    {
      "cell_type": "markdown",
      "metadata": {
        "id": "alDyfK7kBggT"
      },
      "source": [
        "Using all 4 models, predict the labels for all samples belonging to the \"testing\" part"
      ]
    },
    {
      "cell_type": "code",
      "execution_count": null,
      "metadata": {
        "id": "oERQndwtBggT"
      },
      "outputs": [],
      "source": [
        "y_pred_sklda = lda.predict(x_test)\n",
        "y_pred_skqda = qda.predict(x_test) \n",
        " "
      ]
    },
    {
      "cell_type": "code",
      "source": [
        "y_pred_lda = my_lda.predict(x_test)\n"
      ],
      "metadata": {
        "id": "rsCWyd6l_c-f"
      },
      "execution_count": null,
      "outputs": []
    },
    {
      "cell_type": "code",
      "source": [
        "y_pred_qda = my_qda.predict(x_test)"
      ],
      "metadata": {
        "id": "o3a7CgQo7hPh"
      },
      "execution_count": null,
      "outputs": []
    },
    {
      "cell_type": "code",
      "source": [
        "y_pred_lda"
      ],
      "metadata": {
        "colab": {
          "base_uri": "https://localhost:8080/"
        },
        "id": "SQdj5J96VvOy",
        "outputId": "b94b976a-4da4-40d2-b9d2-fe90333f516e"
      },
      "execution_count": null,
      "outputs": [
        {
          "output_type": "execute_result",
          "data": {
            "text/plain": [
              "array([[0],\n",
              "       [0],\n",
              "       [0],\n",
              "       [0],\n",
              "       [0],\n",
              "       [0],\n",
              "       [0],\n",
              "       [0],\n",
              "       [0],\n",
              "       [0],\n",
              "       [0],\n",
              "       [0],\n",
              "       [0],\n",
              "       [0],\n",
              "       [0],\n",
              "       [0],\n",
              "       [0],\n",
              "       [0],\n",
              "       [0],\n",
              "       [0],\n",
              "       [0],\n",
              "       [0],\n",
              "       [0],\n",
              "       [0],\n",
              "       [0],\n",
              "       [0],\n",
              "       [0],\n",
              "       [0],\n",
              "       [0],\n",
              "       [0],\n",
              "       [0],\n",
              "       [0],\n",
              "       [0],\n",
              "       [0],\n",
              "       [0],\n",
              "       [0],\n",
              "       [0],\n",
              "       [0],\n",
              "       [0],\n",
              "       [0],\n",
              "       [0],\n",
              "       [0],\n",
              "       [0],\n",
              "       [0],\n",
              "       [0],\n",
              "       [0],\n",
              "       [0],\n",
              "       [0],\n",
              "       [0],\n",
              "       [0],\n",
              "       [0],\n",
              "       [0],\n",
              "       [0],\n",
              "       [0],\n",
              "       [0],\n",
              "       [0],\n",
              "       [0],\n",
              "       [0],\n",
              "       [0],\n",
              "       [0],\n",
              "       [0],\n",
              "       [0],\n",
              "       [0],\n",
              "       [0],\n",
              "       [0],\n",
              "       [0],\n",
              "       [0],\n",
              "       [0],\n",
              "       [0],\n",
              "       [0],\n",
              "       [0],\n",
              "       [0],\n",
              "       [0],\n",
              "       [0],\n",
              "       [0],\n",
              "       [0],\n",
              "       [0],\n",
              "       [0],\n",
              "       [0],\n",
              "       [0],\n",
              "       [0],\n",
              "       [0],\n",
              "       [0],\n",
              "       [0],\n",
              "       [0],\n",
              "       [0],\n",
              "       [0],\n",
              "       [0],\n",
              "       [0],\n",
              "       [0],\n",
              "       [0],\n",
              "       [0],\n",
              "       [0],\n",
              "       [0],\n",
              "       [0],\n",
              "       [0],\n",
              "       [0],\n",
              "       [0],\n",
              "       [0],\n",
              "       [0],\n",
              "       [0],\n",
              "       [0],\n",
              "       [0],\n",
              "       [0],\n",
              "       [0],\n",
              "       [0],\n",
              "       [0],\n",
              "       [0],\n",
              "       [0],\n",
              "       [0],\n",
              "       [0],\n",
              "       [0],\n",
              "       [0],\n",
              "       [0],\n",
              "       [0],\n",
              "       [0],\n",
              "       [0],\n",
              "       [0],\n",
              "       [0],\n",
              "       [0],\n",
              "       [0],\n",
              "       [0],\n",
              "       [0],\n",
              "       [0],\n",
              "       [0],\n",
              "       [0],\n",
              "       [0],\n",
              "       [0],\n",
              "       [0],\n",
              "       [0],\n",
              "       [0],\n",
              "       [0],\n",
              "       [0],\n",
              "       [0],\n",
              "       [0],\n",
              "       [0],\n",
              "       [0],\n",
              "       [0],\n",
              "       [0],\n",
              "       [0],\n",
              "       [0],\n",
              "       [0],\n",
              "       [0],\n",
              "       [0],\n",
              "       [0],\n",
              "       [0],\n",
              "       [0],\n",
              "       [0],\n",
              "       [0],\n",
              "       [0],\n",
              "       [0],\n",
              "       [0],\n",
              "       [0],\n",
              "       [0],\n",
              "       [0],\n",
              "       [0],\n",
              "       [0],\n",
              "       [0],\n",
              "       [0],\n",
              "       [0]])"
            ]
          },
          "metadata": {},
          "execution_count": 246
        }
      ]
    },
    {
      "cell_type": "markdown",
      "metadata": {
        "id": "d8MCPkghBggT"
      },
      "source": [
        "Calculate Accuracy, Recall, and F1-Scores"
      ]
    },
    {
      "cell_type": "code",
      "execution_count": null,
      "metadata": {
        "id": "AQPki8BRBggT",
        "colab": {
          "base_uri": "https://localhost:8080/"
        },
        "outputId": "4e8a43a4-aec0-4838-8525-6f217770a394"
      },
      "outputs": [
        {
          "output_type": "stream",
          "name": "stdout",
          "text": [
            "0.9\n",
            "0.8658536585365854\n",
            "0.8987341772151899\n"
          ]
        }
      ],
      "source": [
        "\n",
        "from sklearn.metrics import accuracy_score, recall_score, f1_score\n",
        "\n",
        "accuracy = accuracy_score(y_test, y_pred_sklda)\n",
        "recall = recall_score(y_test, y_pred_sklda)\n",
        "f1 = f1_score(y_test, y_pred_sklda)\n",
        "\n",
        "print(accuracy)\n",
        "print(recall)\n",
        "print(f1)"
      ]
    },
    {
      "cell_type": "code",
      "source": [
        "\n",
        "from sklearn.metrics import accuracy_score, recall_score, f1_score\n",
        "\n",
        "accuracy = accuracy_score(y_test, y_pred_skqda)\n",
        "recall = recall_score(y_test, y_pred_skqda)\n",
        "f1 = f1_score(y_test, y_pred_skqda)\n",
        "\n",
        "print(accuracy)\n",
        "print(recall)\n",
        "print(f1)"
      ],
      "metadata": {
        "colab": {
          "base_uri": "https://localhost:8080/"
        },
        "id": "Ugs7Ax33-R05",
        "outputId": "9484fb1b-3e7b-4b08-efe3-6fa4aa2af702"
      },
      "execution_count": null,
      "outputs": [
        {
          "output_type": "stream",
          "name": "stdout",
          "text": [
            "0.9\n",
            "0.9634146341463414\n",
            "0.9080459770114943\n"
          ]
        }
      ]
    },
    {
      "cell_type": "code",
      "execution_count": null,
      "metadata": {
        "id": "7HFotvE8BggU",
        "colab": {
          "base_uri": "https://localhost:8080/"
        },
        "outputId": "d5666e22-56fe-4dd4-d22d-c538cb5cdfd5"
      },
      "outputs": [
        {
          "output_type": "stream",
          "name": "stdout",
          "text": [
            "0.4875\n",
            "0.0\n",
            "0.0\n"
          ]
        }
      ],
      "source": [
        "from sklearn.metrics import accuracy_score, recall_score, f1_score\n",
        "\n",
        "accuracy = accuracy_score(y_test, y_pred_lda)\n",
        "recall = recall_score(y_test, y_pred_lda)\n",
        "f1 = f1_score(y_test, y_pred_lda)\n",
        "\n",
        "print(accuracy)\n",
        "print(recall)\n",
        "print(f1)"
      ]
    },
    {
      "cell_type": "code",
      "source": [
        "from sklearn.metrics import accuracy_score, recall_score, f1_score\n",
        "\n",
        "accuracy = accuracy_score(y_test, y_pred_qda)\n",
        "recall = recall_score(y_test, y_pred_qda)\n",
        "f1 = f1_score(y_test, y_pred_qda)\n",
        "\n",
        "print(accuracy)\n",
        "print(recall)\n",
        "print(f1)"
      ],
      "metadata": {
        "colab": {
          "base_uri": "https://localhost:8080/"
        },
        "id": "jhcVejkK-X9H",
        "outputId": "e52731c7-1cad-423c-a103-9408e1b20d56"
      },
      "execution_count": null,
      "outputs": [
        {
          "output_type": "stream",
          "name": "stdout",
          "text": [
            "0.9375\n",
            "0.9024390243902439\n",
            "0.9367088607594938\n"
          ]
        }
      ]
    },
    {
      "cell_type": "code",
      "source": [],
      "metadata": {
        "id": "MkfPD40kYV3g"
      },
      "execution_count": null,
      "outputs": []
    },
    {
      "cell_type": "markdown",
      "metadata": {
        "id": "JidSYlejBggU"
      },
      "source": [
        "Compute the ROC AUC Score using `sklearn` (for both LDA and QDA models trained using this library)"
      ]
    },
    {
      "cell_type": "code",
      "execution_count": null,
      "metadata": {
        "id": "XGOLeq9FBggU",
        "colab": {
          "base_uri": "https://localhost:8080/"
        },
        "outputId": "6d6bc763-657f-4127-9b47-bbe7ff075586"
      },
      "outputs": [
        {
          "output_type": "stream",
          "name": "stdout",
          "text": [
            "0.9008755472170106\n"
          ]
        }
      ],
      "source": [
        "from sklearn.metrics import roc_auc_score\n",
        "\n",
        "roc_auc = roc_auc_score(y_test, y_pred_sklda)\n",
        "print(roc_auc)"
      ]
    },
    {
      "cell_type": "code",
      "execution_count": null,
      "metadata": {
        "id": "TW0uyPuaBggU",
        "colab": {
          "base_uri": "https://localhost:8080/"
        },
        "outputId": "a8586f9d-5ada-4fc6-c4f5-f4685c2701d3"
      },
      "outputs": [
        {
          "output_type": "stream",
          "name": "stdout",
          "text": [
            "0.8983739837398375\n"
          ]
        }
      ],
      "source": [
        "roc_auc = roc_auc_score(y_test, y_pred_skqda)\n",
        "print(roc_auc)"
      ]
    },
    {
      "cell_type": "markdown",
      "source": [
        "# Kaggle Competition"
      ],
      "metadata": {
        "id": "u2E49REsHDZx"
      }
    },
    {
      "cell_type": "markdown",
      "source": [
        "Link: https://www.kaggle.com/t/988b0aa2db2446fd85cff571d69c6386"
      ],
      "metadata": {
        "id": "Ib2aOdWFHF3J"
      }
    }
  ],
  "metadata": {
    "kernelspec": {
      "display_name": "base",
      "language": "python",
      "name": "python3"
    },
    "language_info": {
      "codemirror_mode": {
        "name": "ipython",
        "version": 3
      },
      "file_extension": ".py",
      "mimetype": "text/x-python",
      "name": "python",
      "nbconvert_exporter": "python",
      "pygments_lexer": "ipython3",
      "version": "3.9.13"
    },
    "orig_nbformat": 4,
    "colab": {
      "provenance": []
    }
  },
  "nbformat": 4,
  "nbformat_minor": 0
}