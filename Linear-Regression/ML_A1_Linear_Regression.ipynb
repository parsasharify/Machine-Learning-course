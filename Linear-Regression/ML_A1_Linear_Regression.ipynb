{
  "cells": [
    {
      "cell_type": "markdown",
      "id": "b07eb33c",
      "metadata": {
        "id": "b07eb33c"
      },
      "source": [
        "<div>\n",
        "<img src='http://www-scf.usc.edu/~ghasemig/images/sharif.png' alt=\"SUT logo\" width=220 height=220 align=left class=\"saturate\">\n",
        "\n",
        "<br>\n",
        "<font face=\"Times New Roman\">\n",
        "<div dir=ltr align=center> \n",
        "<!-- <font color=0F5298 size=7> -->\n",
        "<font color=0F5298 size=6>\n",
        "    Introduction to Machine Learning <br> <br>\n",
        "<!-- <font color=2565AE size=5> -->\n",
        "<font size=5>\n",
        "    Computer Engineering Department <br>\n",
        "    Spring 2023 <br> <br>\n",
        "<font color=606060 size=5>\n",
        "    Homework 1: Practical - Linear Regression <br> <br>\n",
        "<font color=686880 size=4>\n",
        "    TAs: Arman Malekzadeh - Yalda Shabanzadeh - Arshia Soltani Moakhar\n",
        "    \n",
        "____"
      ]
    },
    {
      "cell_type": "markdown",
      "id": "f5a79508",
      "metadata": {
        "id": "f5a79508"
      },
      "source": [
        "\n",
        "\n",
        "```\n",
        "# This is formatted as code\n",
        "```\n",
        "\n",
        "### Full Name : Parsa Sharifi\n",
        "### Student Number : 99101762\n",
        "___"
      ]
    },
    {
      "cell_type": "code",
      "source": [
        "# run this to download the dataset\n",
        "!wget -O 'dataset.csv' https://www.dropbox.com/s/2ny75tb1ic141yw/assignment1.csv?dl=0"
      ],
      "metadata": {
        "id": "_FZJrsgNDeBt",
        "colab": {
          "base_uri": "https://localhost:8080/"
        },
        "outputId": "f5972b7a-d9a5-428e-9eef-6d0071790806"
      },
      "id": "_FZJrsgNDeBt",
      "execution_count": 1,
      "outputs": [
        {
          "output_type": "stream",
          "name": "stdout",
          "text": [
            "--2023-03-09 12:09:56--  https://www.dropbox.com/s/2ny75tb1ic141yw/assignment1.csv?dl=0\n",
            "Resolving www.dropbox.com (www.dropbox.com)... 162.125.3.18, 2620:100:6018:18::a27d:312\n",
            "Connecting to www.dropbox.com (www.dropbox.com)|162.125.3.18|:443... connected.\n",
            "HTTP request sent, awaiting response... 302 Found\n",
            "Location: /s/raw/2ny75tb1ic141yw/assignment1.csv [following]\n",
            "--2023-03-09 12:09:56--  https://www.dropbox.com/s/raw/2ny75tb1ic141yw/assignment1.csv\n",
            "Reusing existing connection to www.dropbox.com:443.\n",
            "HTTP request sent, awaiting response... 302 Found\n",
            "Location: https://uc3a6e56fd9ed0dad317966143a9.dl.dropboxusercontent.com/cd/0/inline/B35MTnp_B_UheVS62Qcj-3M94eIYhltFks_tzosCaDcg81wbq7x7wONbr8fFLtHN-ewg91cD_u9JSZQ92agGp_9YYjHPlI8Gr8D3d86hn6wvFTftKg8DYEtFvOjyvK3kNAz79OokCknKnvAkgciWpoTa1OUJtCgNbIkAmpUqym2gLg/file# [following]\n",
            "--2023-03-09 12:09:56--  https://uc3a6e56fd9ed0dad317966143a9.dl.dropboxusercontent.com/cd/0/inline/B35MTnp_B_UheVS62Qcj-3M94eIYhltFks_tzosCaDcg81wbq7x7wONbr8fFLtHN-ewg91cD_u9JSZQ92agGp_9YYjHPlI8Gr8D3d86hn6wvFTftKg8DYEtFvOjyvK3kNAz79OokCknKnvAkgciWpoTa1OUJtCgNbIkAmpUqym2gLg/file\n",
            "Resolving uc3a6e56fd9ed0dad317966143a9.dl.dropboxusercontent.com (uc3a6e56fd9ed0dad317966143a9.dl.dropboxusercontent.com)... 162.125.3.15, 2620:100:6018:15::a27d:30f\n",
            "Connecting to uc3a6e56fd9ed0dad317966143a9.dl.dropboxusercontent.com (uc3a6e56fd9ed0dad317966143a9.dl.dropboxusercontent.com)|162.125.3.15|:443... connected.\n",
            "HTTP request sent, awaiting response... 200 OK\n",
            "Length: 55628 (54K) [text/plain]\n",
            "Saving to: ‘dataset.csv’\n",
            "\n",
            "dataset.csv         100%[===================>]  54.32K  --.-KB/s    in 0.02s   \n",
            "\n",
            "2023-03-09 12:09:57 (3.16 MB/s) - ‘dataset.csv’ saved [55628/55628]\n",
            "\n"
          ]
        }
      ]
    },
    {
      "cell_type": "code",
      "execution_count": 2,
      "id": "5a2067b0",
      "metadata": {
        "id": "5a2067b0"
      },
      "outputs": [],
      "source": [
        "# you can use the following libraries\n",
        "import pandas as pd\n",
        "import sklearn\n",
        "import numpy as np\n",
        "from joblib import dump, load\n",
        "from matplotlib import pyplot as plt\n",
        "import os"
      ]
    },
    {
      "cell_type": "markdown",
      "id": "20fe7a06",
      "metadata": {
        "id": "20fe7a06"
      },
      "source": [
        "# Phase 1: Explore"
      ]
    },
    {
      "cell_type": "markdown",
      "id": "53b23af6",
      "metadata": {
        "id": "53b23af6"
      },
      "source": [
        "## Sec 1: What do we have here?"
      ]
    },
    {
      "cell_type": "markdown",
      "id": "c9a841e4",
      "metadata": {
        "id": "c9a841e4"
      },
      "source": [
        "load the dataset (as a dataframe) using pandas"
      ]
    },
    {
      "cell_type": "code",
      "execution_count": 3,
      "id": "794aec65",
      "metadata": {
        "id": "794aec65"
      },
      "outputs": [],
      "source": [
        "df = pd.read_csv('/content/dataset.csv')"
      ]
    },
    {
      "cell_type": "markdown",
      "id": "5cdcbee2",
      "metadata": {
        "id": "5cdcbee2"
      },
      "source": [
        "display the top rows of the dataframe (top 5 is enough)"
      ]
    },
    {
      "cell_type": "code",
      "execution_count": 4,
      "id": "27a62b7d",
      "metadata": {
        "id": "27a62b7d",
        "colab": {
          "base_uri": "https://localhost:8080/"
        },
        "outputId": "7efa6e83-bf84-4e2f-f8ca-7318238606dc"
      },
      "outputs": [
        {
          "output_type": "stream",
          "name": "stdout",
          "text": [
            "   age     sex     bmi  children smoker     region      charges\n",
            "0   19  female  27.900         0    yes  southwest  16884.92400\n",
            "1   18    male  33.770         1     no  southeast   1725.55230\n",
            "2   28    male  33.000         3     no  southeast   4449.46200\n",
            "3   33    male  22.705         0     no  northwest  21984.47061\n",
            "4   32    male  28.880         0     no  northwest   3866.85520\n"
          ]
        }
      ],
      "source": [
        "print(df.head())"
      ]
    },
    {
      "cell_type": "markdown",
      "id": "a55a134e",
      "metadata": {
        "id": "a55a134e"
      },
      "source": [
        "print the names of the columns"
      ]
    },
    {
      "cell_type": "code",
      "execution_count": 5,
      "id": "f5db727b",
      "metadata": {
        "id": "f5db727b",
        "colab": {
          "base_uri": "https://localhost:8080/"
        },
        "outputId": "9ba8fffa-3b64-45a3-89c2-200b94f6bf3f"
      },
      "outputs": [
        {
          "output_type": "stream",
          "name": "stdout",
          "text": [
            "Index(['age', 'sex', 'bmi', 'children', 'smoker', 'region', 'charges'], dtype='object')\n"
          ]
        }
      ],
      "source": [
        "print(df.columns)"
      ]
    },
    {
      "cell_type": "markdown",
      "id": "063f6a38",
      "metadata": {
        "id": "063f6a38"
      },
      "source": [
        "what values can the `region` column take? print the unique values using pandas"
      ]
    },
    {
      "cell_type": "code",
      "execution_count": 6,
      "id": "f7e651ef",
      "metadata": {
        "id": "f7e651ef",
        "colab": {
          "base_uri": "https://localhost:8080/"
        },
        "outputId": "2d3dfd62-808e-4cd5-aff0-800c93434752"
      },
      "outputs": [
        {
          "output_type": "stream",
          "name": "stdout",
          "text": [
            "['southwest' 'southeast' 'northwest' 'northeast']\n"
          ]
        }
      ],
      "source": [
        "print(df['region'].unique())"
      ]
    },
    {
      "cell_type": "markdown",
      "id": "6e73905d",
      "metadata": {
        "id": "6e73905d"
      },
      "source": [
        "get the number of rows in the dataset"
      ]
    },
    {
      "cell_type": "code",
      "execution_count": 7,
      "id": "e78de260",
      "metadata": {
        "id": "e78de260",
        "colab": {
          "base_uri": "https://localhost:8080/"
        },
        "outputId": "67003e9c-0b7d-47af-9479-0450cc42fa84"
      },
      "outputs": [
        {
          "output_type": "stream",
          "name": "stdout",
          "text": [
            "1338\n"
          ]
        }
      ],
      "source": [
        "print(df.shape[0])"
      ]
    },
    {
      "cell_type": "markdown",
      "id": "4a120511",
      "metadata": {
        "id": "4a120511"
      },
      "source": [
        "make a new column named `rounded_bmi` by rounding each value of the column `bmi` | keep the `bmi` column"
      ]
    },
    {
      "cell_type": "code",
      "execution_count": 8,
      "id": "581c56d7",
      "metadata": {
        "id": "581c56d7",
        "colab": {
          "base_uri": "https://localhost:8080/"
        },
        "outputId": "8a5653ae-eb38-43f5-ee6f-caa725121246"
      },
      "outputs": [
        {
          "output_type": "stream",
          "name": "stdout",
          "text": [
            "   age     sex     bmi  children smoker     region      charges  rounded_bmi\n",
            "0   19  female  27.900         0    yes  southwest  16884.92400         28.0\n",
            "1   18    male  33.770         1     no  southeast   1725.55230         34.0\n",
            "2   28    male  33.000         3     no  southeast   4449.46200         33.0\n",
            "3   33    male  22.705         0     no  northwest  21984.47061         23.0\n",
            "4   32    male  28.880         0     no  northwest   3866.85520         29.0\n"
          ]
        }
      ],
      "source": [
        "df['rounded_bmi'] = df['bmi'].round()\n",
        "print(df.head())"
      ]
    },
    {
      "cell_type": "markdown",
      "id": "cd6f5035",
      "metadata": {
        "id": "cd6f5035"
      },
      "source": [
        "## Sec 2: Perform EDA\n",
        "\n",
        "perform EDA on the dataset (e.g., see if there are null values)"
      ]
    },
    {
      "cell_type": "code",
      "execution_count": null,
      "id": "9d137e73",
      "metadata": {
        "id": "9d137e73",
        "colab": {
          "base_uri": "https://localhost:8080/"
        },
        "outputId": "cf173738-ebbd-4e8d-c631-3de0da65f16e"
      },
      "outputs": [
        {
          "output_type": "stream",
          "name": "stdout",
          "text": [
            "age            0\n",
            "sex            0\n",
            "bmi            0\n",
            "children       0\n",
            "smoker         0\n",
            "region         0\n",
            "charges        0\n",
            "rounded_bmi    0\n",
            "dtype: int64\n",
            "age              int64\n",
            "sex             object\n",
            "bmi            float64\n",
            "children         int64\n",
            "smoker          object\n",
            "region          object\n",
            "charges        float64\n",
            "rounded_bmi    float64\n",
            "dtype: object\n",
            "               age          bmi     children       charges  rounded_bmi\n",
            "count  1338.000000  1338.000000  1338.000000   1338.000000  1338.000000\n",
            "mean     39.207025    30.663397     1.094918  13270.422265    30.663677\n",
            "std      14.049960     6.098187     1.205493  12110.011237     6.096007\n",
            "min      18.000000    15.960000     0.000000   1121.873900    16.000000\n",
            "25%      27.000000    26.296250     0.000000   4740.287150    26.000000\n",
            "50%      39.000000    30.400000     1.000000   9382.033000    30.000000\n",
            "75%      51.000000    34.693750     2.000000  16639.912515    35.000000\n",
            "max      64.000000    53.130000     5.000000  63770.428010    53.000000\n"
          ]
        }
      ],
      "source": [
        "#number of nulls\n",
        "print(df.isnull().sum())"
      ]
    },
    {
      "cell_type": "code",
      "source": [
        "#data type\n",
        "print(df.dtypes)"
      ],
      "metadata": {
        "colab": {
          "base_uri": "https://localhost:8080/"
        },
        "id": "z9iO1IDWTg6v",
        "outputId": "6130ec4e-44df-47ab-f1b7-99ac60600cfc"
      },
      "id": "z9iO1IDWTg6v",
      "execution_count": 11,
      "outputs": [
        {
          "output_type": "stream",
          "name": "stdout",
          "text": [
            "age              int64\n",
            "sex             object\n",
            "bmi            float64\n",
            "children         int64\n",
            "smoker          object\n",
            "region          object\n",
            "charges        float64\n",
            "rounded_bmi    float64\n",
            "dtype: object\n"
          ]
        }
      ]
    },
    {
      "cell_type": "code",
      "source": [
        "#this method gets different information of data like std and mean\n",
        "print(df.describe())"
      ],
      "metadata": {
        "colab": {
          "base_uri": "https://localhost:8080/"
        },
        "id": "T6W1XkCBTg9O",
        "outputId": "23271242-0811-4fe4-eb5e-72ce6568c478"
      },
      "id": "T6W1XkCBTg9O",
      "execution_count": 12,
      "outputs": [
        {
          "output_type": "stream",
          "name": "stdout",
          "text": [
            "               age          bmi     children       charges  rounded_bmi\n",
            "count  1338.000000  1338.000000  1338.000000   1338.000000  1338.000000\n",
            "mean     39.207025    30.663397     1.094918  13270.422265    30.663677\n",
            "std      14.049960     6.098187     1.205493  12110.011237     6.096007\n",
            "min      18.000000    15.960000     0.000000   1121.873900    16.000000\n",
            "25%      27.000000    26.296250     0.000000   4740.287150    26.000000\n",
            "50%      39.000000    30.400000     1.000000   9382.033000    30.000000\n",
            "75%      51.000000    34.693750     2.000000  16639.912515    35.000000\n",
            "max      64.000000    53.130000     5.000000  63770.428010    53.000000\n"
          ]
        }
      ]
    },
    {
      "cell_type": "code",
      "source": [
        "#get distribution of data\n",
        "\n",
        "for column in df.columns:\n",
        "    column_distribution = df[column].value_counts()\n",
        "    print(column_distribution)"
      ],
      "metadata": {
        "colab": {
          "base_uri": "https://localhost:8080/"
        },
        "id": "7JKjaJzqTt4a",
        "outputId": "d2c70f55-1a78-4bfd-82e3-6add1e32a50e"
      },
      "id": "7JKjaJzqTt4a",
      "execution_count": 13,
      "outputs": [
        {
          "output_type": "stream",
          "name": "stdout",
          "text": [
            "18    69\n",
            "19    68\n",
            "50    29\n",
            "51    29\n",
            "47    29\n",
            "46    29\n",
            "45    29\n",
            "20    29\n",
            "48    29\n",
            "52    29\n",
            "22    28\n",
            "49    28\n",
            "54    28\n",
            "53    28\n",
            "21    28\n",
            "26    28\n",
            "24    28\n",
            "25    28\n",
            "28    28\n",
            "27    28\n",
            "23    28\n",
            "43    27\n",
            "29    27\n",
            "30    27\n",
            "41    27\n",
            "42    27\n",
            "44    27\n",
            "31    27\n",
            "40    27\n",
            "32    26\n",
            "33    26\n",
            "56    26\n",
            "34    26\n",
            "55    26\n",
            "57    26\n",
            "37    25\n",
            "59    25\n",
            "58    25\n",
            "36    25\n",
            "38    25\n",
            "35    25\n",
            "39    25\n",
            "61    23\n",
            "60    23\n",
            "63    23\n",
            "62    23\n",
            "64    22\n",
            "Name: age, dtype: int64\n",
            "male      676\n",
            "female    662\n",
            "Name: sex, dtype: int64\n",
            "32.300    13\n",
            "28.310     9\n",
            "30.495     8\n",
            "30.875     8\n",
            "31.350     8\n",
            "          ..\n",
            "46.200     1\n",
            "23.800     1\n",
            "44.770     1\n",
            "32.120     1\n",
            "30.970     1\n",
            "Name: bmi, Length: 548, dtype: int64\n",
            "0    574\n",
            "1    324\n",
            "2    240\n",
            "3    157\n",
            "4     25\n",
            "5     18\n",
            "Name: children, dtype: int64\n",
            "no     1064\n",
            "yes     274\n",
            "Name: smoker, dtype: int64\n",
            "southeast    364\n",
            "southwest    325\n",
            "northwest    325\n",
            "northeast    324\n",
            "Name: region, dtype: int64\n",
            "1639.56310     2\n",
            "16884.92400    1\n",
            "29330.98315    1\n",
            "2221.56445     1\n",
            "19798.05455    1\n",
            "              ..\n",
            "7345.08400     1\n",
            "26109.32905    1\n",
            "28287.89766    1\n",
            "1149.39590     1\n",
            "29141.36030    1\n",
            "Name: charges, Length: 1337, dtype: int64\n",
            "30.0    102\n",
            "28.0    101\n",
            "32.0     83\n",
            "33.0     77\n",
            "34.0     77\n",
            "31.0     76\n",
            "29.0     70\n",
            "26.0     70\n",
            "36.0     63\n",
            "27.0     62\n",
            "25.0     62\n",
            "37.0     58\n",
            "24.0     57\n",
            "23.0     50\n",
            "35.0     45\n",
            "38.0     38\n",
            "40.0     35\n",
            "22.0     35\n",
            "39.0     26\n",
            "20.0     24\n",
            "21.0     23\n",
            "41.0     19\n",
            "42.0     16\n",
            "18.0     11\n",
            "43.0     10\n",
            "17.0      9\n",
            "19.0      8\n",
            "44.0      6\n",
            "47.0      6\n",
            "45.0      6\n",
            "48.0      4\n",
            "46.0      4\n",
            "53.0      2\n",
            "16.0      1\n",
            "49.0      1\n",
            "50.0      1\n",
            "Name: rounded_bmi, dtype: int64\n"
          ]
        }
      ]
    },
    {
      "cell_type": "markdown",
      "id": "2c23d7f7",
      "metadata": {
        "id": "2c23d7f7"
      },
      "source": [
        "## Sec 3: Do linear relationships exist?"
      ]
    },
    {
      "cell_type": "markdown",
      "id": "41e88af0",
      "metadata": {
        "id": "41e88af0"
      },
      "source": [
        "plot `age` against `charges` | **hint**: you can use matplotlibs"
      ]
    },
    {
      "cell_type": "code",
      "execution_count": 14,
      "id": "f4512745",
      "metadata": {
        "id": "f4512745",
        "colab": {
          "base_uri": "https://localhost:8080/",
          "height": 279
        },
        "outputId": "023f6ddf-359d-4c84-87f1-2e78969ea2b9"
      },
      "outputs": [
        {
          "output_type": "display_data",
          "data": {
            "text/plain": [
              "<Figure size 432x288 with 1 Axes>"
            ],
            "image/png": "[encoded data removed]"
          },
          "metadata": {
            "needs_background": "light"
          }
        }
      ],
      "source": [
        "plt.scatter(df['age'], df['charges'])\n",
        "plt.xlabel('age')\n",
        "plt.ylabel('charges')\n",
        "\n",
        "plt.show()"
      ]
    },
    {
      "cell_type": "code",
      "source": [
        "plt.scatter(df['age'], df['charges'])\n",
        "plt.xlabel('age')\n",
        "plt.ylabel('charges')\n",
        "\n",
        "slope, intercept = np.polyfit(df['age'], df['charges'], 1)\n",
        "\n",
        "plt.plot(df['age'], slope * df['age'] + intercept, color='red')\n",
        "\n",
        "plt.show()"
      ],
      "metadata": {
        "colab": {
          "base_uri": "https://localhost:8080/",
          "height": 285
        },
        "id": "x3eU51tMXYZY",
        "outputId": "99fb8517-3fbd-4c84-b5c6-4d367a7aa2a6"
      },
      "id": "x3eU51tMXYZY",
      "execution_count": 20,
      "outputs": [
        {
          "output_type": "display_data",
          "data": {
            "text/plain": [
              "<Figure size 432x288 with 1 Axes>"
            ],
            "image/png": "[encoded data removed]"
          },
          "metadata": {}
        }
      ]
    },
    {
      "cell_type": "markdown",
      "id": "11fdbf07",
      "metadata": {
        "id": "11fdbf07"
      },
      "source": [
        "print the correlation coefficients matrix"
      ]
    },
    {
      "cell_type": "code",
      "execution_count": null,
      "id": "072cd188",
      "metadata": {
        "id": "072cd188",
        "colab": {
          "base_uri": "https://localhost:8080/"
        },
        "outputId": "4e1f7164-3a7b-499c-94d3-b84dfd8b5137"
      },
      "outputs": [
        {
          "output_type": "stream",
          "name": "stdout",
          "text": [
            "                  age       bmi  children   charges  rounded_bmi\n",
            "age          1.000000  0.109272  0.042469  0.299008     0.109527\n",
            "bmi          0.109272  1.000000  0.012759  0.198341     0.998920\n",
            "children     0.042469  0.012759  1.000000  0.067998     0.013915\n",
            "charges      0.299008  0.198341  0.067998  1.000000     0.198795\n",
            "rounded_bmi  0.109527  0.998920  0.013915  0.198795     1.000000\n"
          ]
        }
      ],
      "source": [
        "print(df.corr())"
      ]
    },
    {
      "cell_type": "markdown",
      "id": "269f0189",
      "metadata": {
        "id": "269f0189"
      },
      "source": [
        "# Phase 2: Preprocessing"
      ]
    },
    {
      "cell_type": "markdown",
      "id": "1176754c",
      "metadata": {
        "id": "1176754c"
      },
      "source": [
        "## Sec 1: Handling Categorical Variables"
      ]
    },
    {
      "cell_type": "markdown",
      "id": "ed3ee8ee",
      "metadata": {
        "id": "ed3ee8ee"
      },
      "source": [
        "using one-hot encoding, convert the `region` variable to some numerical variables (the result should be a dataframe)"
      ]
    },
    {
      "cell_type": "code",
      "execution_count": 21,
      "id": "10ff0e61",
      "metadata": {
        "id": "10ff0e61",
        "colab": {
          "base_uri": "https://localhost:8080/"
        },
        "outputId": "14008282-68aa-401d-9ff5-a8d76df67b12"
      },
      "outputs": [
        {
          "output_type": "stream",
          "name": "stdout",
          "text": [
            "   age     sex     bmi  children smoker      charges  rounded_bmi  \\\n",
            "0   19  female  27.900         0    yes  16884.92400         28.0   \n",
            "1   18    male  33.770         1     no   1725.55230         34.0   \n",
            "2   28    male  33.000         3     no   4449.46200         33.0   \n",
            "3   33    male  22.705         0     no  21984.47061         23.0   \n",
            "4   32    male  28.880         0     no   3866.85520         29.0   \n",
            "\n",
            "   region_northeast  region_northwest  region_southeast  region_southwest  \n",
            "0                 0                 0                 0                 1  \n",
            "1                 0                 0                 1                 0  \n",
            "2                 0                 0                 1                 0  \n",
            "3                 0                 1                 0                 0  \n",
            "4                 0                 1                 0                 0  \n"
          ]
        }
      ],
      "source": [
        "region_dummies = pd.get_dummies(df['region'], prefix='region')\n",
        "df_oh_region = pd.concat([df, region_dummies], axis=1)\n",
        "\n",
        "df_oh_region.drop('region', axis=1, inplace=True)\n",
        "\n",
        "print(df_oh_region.head())"
      ]
    },
    {
      "cell_type": "markdown",
      "id": "150e1f5c",
      "metadata": {
        "id": "150e1f5c"
      },
      "source": [
        "do the same thing for the `smoker` variable (the result should be a dataframe)"
      ]
    },
    {
      "cell_type": "code",
      "execution_count": 22,
      "id": "17086e1b",
      "metadata": {
        "id": "17086e1b",
        "colab": {
          "base_uri": "https://localhost:8080/"
        },
        "outputId": "e9fe491d-f1ef-41f0-e9cd-f2f171f96a5e"
      },
      "outputs": [
        {
          "output_type": "stream",
          "name": "stdout",
          "text": [
            "   age     sex     bmi  children     region      charges  rounded_bmi  \\\n",
            "0   19  female  27.900         0  southwest  16884.92400         28.0   \n",
            "1   18    male  33.770         1  southeast   1725.55230         34.0   \n",
            "2   28    male  33.000         3  southeast   4449.46200         33.0   \n",
            "3   33    male  22.705         0  northwest  21984.47061         23.0   \n",
            "4   32    male  28.880         0  northwest   3866.85520         29.0   \n",
            "\n",
            "   smoker_no  smoker_yes  \n",
            "0          0           1  \n",
            "1          1           0  \n",
            "2          1           0  \n",
            "3          1           0  \n",
            "4          1           0  \n"
          ]
        }
      ],
      "source": [
        "region_dummies = pd.get_dummies(df['smoker'], prefix='smoker')\n",
        "df_oh_smoker = pd.concat([df, region_dummies], axis=1)\n",
        "\n",
        "df_oh_smoker.drop('smoker', axis=1, inplace=True)\n",
        "\n",
        "print(df_oh_smoker.head())"
      ]
    },
    {
      "cell_type": "markdown",
      "id": "fbb0369a",
      "metadata": {
        "id": "fbb0369a"
      },
      "source": [
        "do the same thing for the `sex` variable (the result should be a dataframe)"
      ]
    },
    {
      "cell_type": "code",
      "execution_count": 23,
      "id": "9a5e412b",
      "metadata": {
        "id": "9a5e412b",
        "colab": {
          "base_uri": "https://localhost:8080/"
        },
        "outputId": "24ab1edd-b9e7-4546-aab3-757e9d52361c"
      },
      "outputs": [
        {
          "output_type": "stream",
          "name": "stdout",
          "text": [
            "   age     bmi  children smoker     region      charges  rounded_bmi  \\\n",
            "0   19  27.900         0    yes  southwest  16884.92400         28.0   \n",
            "1   18  33.770         1     no  southeast   1725.55230         34.0   \n",
            "2   28  33.000         3     no  southeast   4449.46200         33.0   \n",
            "3   33  22.705         0     no  northwest  21984.47061         23.0   \n",
            "4   32  28.880         0     no  northwest   3866.85520         29.0   \n",
            "\n",
            "   sex_female  sex_male  \n",
            "0           1         0  \n",
            "1           0         1  \n",
            "2           0         1  \n",
            "3           0         1  \n",
            "4           0         1  \n"
          ]
        }
      ],
      "source": [
        "region_dummies = pd.get_dummies(df['sex'], prefix='sex')\n",
        "df_oh_sex = pd.concat([df, region_dummies], axis=1)\n",
        "\n",
        "df_oh_sex.drop('sex', axis=1, inplace=True)\n",
        "\n",
        "print(df_oh_sex.head())"
      ]
    },
    {
      "cell_type": "markdown",
      "id": "0d154dc6",
      "metadata": {
        "id": "0d154dc6"
      },
      "source": [
        "concatenate these new dataframes with the initial one using pandas"
      ]
    },
    {
      "cell_type": "code",
      "execution_count": 24,
      "id": "e13a497c",
      "metadata": {
        "id": "e13a497c",
        "colab": {
          "base_uri": "https://localhost:8080/"
        },
        "outputId": "04178540-7529-4812-91ab-1615f4b8e734"
      },
      "outputs": [
        {
          "output_type": "stream",
          "name": "stdout",
          "text": [
            "   age     sex     bmi  children  smoker     region      charges  rounded_bmi  \\\n",
            "0   19  female  27.900         0     yes  southwest  16884.92400         28.0   \n",
            "1   18    male  33.770         1      no  southeast   1725.55230         34.0   \n",
            "2   28    male  33.000         3      no  southeast   4449.46200         33.0   \n",
            "3   33    male  22.705         0      no  northwest  21984.47061         23.0   \n",
            "4   32    male  28.880         0      no  northwest   3866.85520         29.0   \n",
            "\n",
            "   age     sex  ...  smoker_yes  age     bmi  children  smoker     region  \\\n",
            "0   19  female  ...           1   19  27.900         0     yes  southwest   \n",
            "1   18    male  ...           0   18  33.770         1      no  southeast   \n",
            "2   28    male  ...           0   28  33.000         3      no  southeast   \n",
            "3   33    male  ...           0   33  22.705         0      no  northwest   \n",
            "4   32    male  ...           0   32  28.880         0      no  northwest   \n",
            "\n",
            "       charges  rounded_bmi  sex_female  sex_male  \n",
            "0  16884.92400         28.0           1         0  \n",
            "1   1725.55230         34.0           0         1  \n",
            "2   4449.46200         33.0           0         1  \n",
            "3  21984.47061         23.0           0         1  \n",
            "4   3866.85520         29.0           0         1  \n",
            "\n",
            "[5 rows x 37 columns]\n"
          ]
        }
      ],
      "source": [
        "df_new = pd.concat([df, df_oh_region, df_oh_smoker, df_oh_sex], axis=1)\n",
        "print(df_new.head())"
      ]
    },
    {
      "cell_type": "code",
      "source": [
        "df_new.drop('sex', axis=1, inplace=True)\n",
        "df_new.drop('smoker', axis=1, inplace=True)\n",
        "df_new.drop('region', axis=1, inplace=True)\n",
        "df_new = df_new.loc[:,~df_new.columns.duplicated()].copy()\n",
        "print(df_new.head())\n",
        "print(df_new.shape)"
      ],
      "metadata": {
        "colab": {
          "base_uri": "https://localhost:8080/"
        },
        "id": "azztp2q6pz_u",
        "outputId": "8a2ba02f-4d48-47fa-93d5-7aaccc330b5b"
      },
      "id": "azztp2q6pz_u",
      "execution_count": 25,
      "outputs": [
        {
          "output_type": "stream",
          "name": "stdout",
          "text": [
            "   age     bmi  children      charges  rounded_bmi  region_northeast  \\\n",
            "0   19  27.900         0  16884.92400         28.0                 0   \n",
            "1   18  33.770         1   1725.55230         34.0                 0   \n",
            "2   28  33.000         3   4449.46200         33.0                 0   \n",
            "3   33  22.705         0  21984.47061         23.0                 0   \n",
            "4   32  28.880         0   3866.85520         29.0                 0   \n",
            "\n",
            "   region_northwest  region_southeast  region_southwest  smoker_no  \\\n",
            "0                 0                 0                 1          0   \n",
            "1                 0                 1                 0          1   \n",
            "2                 0                 1                 0          1   \n",
            "3                 1                 0                 0          1   \n",
            "4                 1                 0                 0          1   \n",
            "\n",
            "   smoker_yes  sex_female  sex_male  \n",
            "0           1           1         0  \n",
            "1           0           0         1  \n",
            "2           0           0         1  \n",
            "3           0           0         1  \n",
            "4           0           0         1  \n",
            "(1338, 13)\n"
          ]
        }
      ]
    },
    {
      "cell_type": "markdown",
      "id": "f84cc753",
      "metadata": {
        "id": "f84cc753"
      },
      "source": [
        "## Sec 2: Normalization"
      ]
    },
    {
      "cell_type": "markdown",
      "id": "ac7bf50f",
      "metadata": {
        "id": "ac7bf50f"
      },
      "source": [
        "normalize the columns `age`, `bmi`, and `children` | after this, they should take values between 0 and 1"
      ]
    },
    {
      "cell_type": "code",
      "source": [
        "from sklearn.preprocessing import MinMaxScaler\n",
        "columns_to_normalize = ['age', 'bmi', 'children']\n",
        "\n",
        "scaler = MinMaxScaler()\n",
        "\n",
        "df_new[columns_to_normalize] = scaler.fit_transform(df_new[columns_to_normalize])\n",
        "print(df_new.head())"
      ],
      "metadata": {
        "colab": {
          "base_uri": "https://localhost:8080/"
        },
        "id": "zNAOnbKcFOIh",
        "outputId": "39f69c84-fc33-41c0-8a76-a5d3c2b5d106"
      },
      "id": "zNAOnbKcFOIh",
      "execution_count": 26,
      "outputs": [
        {
          "output_type": "stream",
          "name": "stdout",
          "text": [
            "        age       bmi  children      charges  rounded_bmi  region_northeast  \\\n",
            "0  0.021739  0.321227       0.0  16884.92400         28.0                 0   \n",
            "1  0.000000  0.479150       0.2   1725.55230         34.0                 0   \n",
            "2  0.217391  0.458434       0.6   4449.46200         33.0                 0   \n",
            "3  0.326087  0.181464       0.0  21984.47061         23.0                 0   \n",
            "4  0.304348  0.347592       0.0   3866.85520         29.0                 0   \n",
            "\n",
            "   region_northwest  region_southeast  region_southwest  smoker_no  \\\n",
            "0                 0                 0                 1          0   \n",
            "1                 0                 1                 0          1   \n",
            "2                 0                 1                 0          1   \n",
            "3                 1                 0                 0          1   \n",
            "4                 1                 0                 0          1   \n",
            "\n",
            "   smoker_yes  sex_female  sex_male  \n",
            "0           1           1         0  \n",
            "1           0           0         1  \n",
            "2           0           0         1  \n",
            "3           0           0         1  \n",
            "4           0           0         1  \n"
          ]
        }
      ]
    },
    {
      "cell_type": "markdown",
      "id": "ee1199e1",
      "metadata": {
        "id": "ee1199e1"
      },
      "source": [
        "# Phase 3: Training"
      ]
    },
    {
      "cell_type": "markdown",
      "id": "32252d37",
      "metadata": {
        "id": "32252d37"
      },
      "source": [
        "## Sec 1: Making X and Y"
      ]
    },
    {
      "cell_type": "markdown",
      "id": "689637db",
      "metadata": {
        "id": "689637db"
      },
      "source": [
        "make a new dataframe by removing the following columns: \"rounded_bmi\", \"charges\" \n",
        "| note: do not remove the previous dataframe"
      ]
    },
    {
      "cell_type": "code",
      "execution_count": 27,
      "id": "f9fc205a",
      "metadata": {
        "id": "f9fc205a"
      },
      "outputs": [],
      "source": [
        "df_removed = df_new.drop(columns=['rounded_bmi', 'charges'])"
      ]
    },
    {
      "cell_type": "markdown",
      "id": "ec4b1b9f",
      "metadata": {
        "id": "ec4b1b9f"
      },
      "source": [
        "convert the new dataframe into a numpy array named \"x\""
      ]
    },
    {
      "cell_type": "code",
      "execution_count": 28,
      "id": "2108f459",
      "metadata": {
        "id": "2108f459",
        "colab": {
          "base_uri": "https://localhost:8080/"
        },
        "outputId": "b2d8aa76-424d-4062-84d0-d8e5e990b688"
      },
      "outputs": [
        {
          "output_type": "stream",
          "name": "stdout",
          "text": [
            "[[0.02173913 0.3212268  0.         ... 1.         1.         0.        ]\n",
            " [0.         0.47914985 0.2        ... 0.         0.         1.        ]\n",
            " [0.2173913  0.45843422 0.6        ... 0.         0.         1.        ]\n",
            " ...\n",
            " [0.         0.56201238 0.         ... 0.         1.         0.        ]\n",
            " [0.06521739 0.26472962 0.         ... 0.         1.         0.        ]\n",
            " [0.93478261 0.35270379 0.         ... 1.         1.         0.        ]]\n"
          ]
        }
      ],
      "source": [
        "x = df_removed.to_numpy()\n",
        "print(x)"
      ]
    },
    {
      "cell_type": "markdown",
      "id": "50ce4231",
      "metadata": {
        "id": "50ce4231"
      },
      "source": [
        "get the \"charges\" column from the previous dataframe and convert it to another numpy array named \"y\""
      ]
    },
    {
      "cell_type": "code",
      "execution_count": 29,
      "id": "398524f9",
      "metadata": {
        "id": "398524f9",
        "colab": {
          "base_uri": "https://localhost:8080/"
        },
        "outputId": "6597aaf9-f98f-4ed0-ebf2-3e2b6dc08041"
      },
      "outputs": [
        {
          "output_type": "stream",
          "name": "stdout",
          "text": [
            "[16884.924   1725.5523  4449.462  ...  1629.8335  2007.945  29141.3603]\n"
          ]
        }
      ],
      "source": [
        "y = df_new['charges'].to_numpy()\n",
        "print(y)"
      ]
    },
    {
      "cell_type": "markdown",
      "id": "01db8a8e",
      "metadata": {
        "id": "01db8a8e"
      },
      "source": [
        "## Sec 2: Splitting the Data"
      ]
    },
    {
      "cell_type": "markdown",
      "id": "e52068ba",
      "metadata": {
        "id": "e52068ba"
      },
      "source": [
        "divide the dataset into two portions in a way that 90% of the data belongs to the \"training\" set (called `x_train`, `y_train`) and the remaining belongs to the \"testing\" set (called `x_test`, `y_test`)"
      ]
    },
    {
      "cell_type": "code",
      "execution_count": 30,
      "id": "2f51edf6",
      "metadata": {
        "id": "2f51edf6"
      },
      "outputs": [],
      "source": [
        "from sklearn.model_selection import train_test_split\n",
        "\n",
        "x_train, x_test, y_train, y_test = train_test_split(x, y, test_size=0.1, random_state=42)"
      ]
    },
    {
      "cell_type": "code",
      "source": [
        "print(\"x_train shape:\", x_train.shape)\n",
        "print(\"y_train shape:\", y_train.shape)\n",
        "print(\"x_test shape:\", x_test.shape)\n",
        "print(\"y_test shape:\", y_test.shape)"
      ],
      "metadata": {
        "colab": {
          "base_uri": "https://localhost:8080/"
        },
        "id": "520O8hl3aBnd",
        "outputId": "f29297d6-0d89-4525-96e4-44e0ff848f32"
      },
      "id": "520O8hl3aBnd",
      "execution_count": 31,
      "outputs": [
        {
          "output_type": "stream",
          "name": "stdout",
          "text": [
            "x_train shape: (1204, 11)\n",
            "y_train shape: (1204,)\n",
            "x_test shape: (134, 11)\n",
            "y_test shape: (134,)\n"
          ]
        }
      ]
    },
    {
      "cell_type": "markdown",
      "id": "3b11b352",
      "metadata": {
        "id": "3b11b352"
      },
      "source": [
        "## Sec 3 (Optional): Linear Regression from Scratch\n",
        "\n",
        "Complete this section with your code.\n",
        "\n",
        "**hint**: \n",
        "- use pseudo inverse if matrix is not invertible.\n",
        "- you can use `np.linalg`.\n",
        "\n",
        "**note**:\n",
        "- do **Phase 3:Sec 4** and **Phase 4:all sections** with this model also, then compare your results. "
      ]
    },
    {
      "cell_type": "code",
      "execution_count": 81,
      "id": "d19c47ce",
      "metadata": {
        "id": "d19c47ce"
      },
      "outputs": [],
      "source": [
        "# I used yaser abu mostafa course https://www.youtube.com/watch?v=FIbVs5GbBlQ for the optimal solution formula\n",
        "\n",
        "import numpy as np\n",
        "\n",
        "class LinearRegression_:\n",
        "    \"\"\"\n",
        "    Fits a linear regression model to data, then uses predict to get results.\n",
        "    \"\"\"\n",
        "\n",
        "    def __init__(self):\n",
        "        self.weights = None\n",
        "        self.bias = None\n",
        "    \n",
        "    def fit(self, X, y):\n",
        "        \"\"\"Fit the training data\n",
        "        Parameters\n",
        "        ----------\n",
        "        X : array-like, shape = [n_samples, n_features]\n",
        "            Training samples\n",
        "        y : array-like, shape = [n_samples, n_target_values]\n",
        "            Target values\n",
        "        Returns\n",
        "        -------\n",
        "        self : object\n",
        "        \"\"\"\n",
        "        n_samples, n_features = X.shape\n",
        "        alpha = .1\n",
        "\n",
        "        self.weights = np.zeros((n_features, 1))\n",
        "        self.bias = 0\n",
        "\n",
        "        X_T = X.T\n",
        "\n",
        "        self.weights = np.dot(np.dot(np.linalg.inv(np.dot(X_T, X) + alpha * np.identity(n_features)), X_T), y)\n",
        "        self.bias = np.mean(y) - np.dot(np.mean(X, axis=0), self.weights)\n",
        "\n",
        "        return self\n",
        "    \n",
        "    def predict(self, X):\n",
        "        \"\"\" Predicts the value after the model has been trained.\n",
        "        Parameters\n",
        "        ----------\n",
        "        X : array-like, shape = [n_samples, n_features]\n",
        "            Test samples\n",
        "        Returns\n",
        "        -------\n",
        "        Predicted value\n",
        "        \"\"\"\n",
        "\n",
        "        y_pred = np.dot(X, self.weights) + self.bias\n",
        "\n",
        "        return y_pred\n"
      ]
    },
    {
      "cell_type": "markdown",
      "id": "8f4e311e",
      "metadata": {
        "id": "8f4e311e"
      },
      "source": [
        "## Sec 4: The real deal!"
      ]
    },
    {
      "cell_type": "markdown",
      "id": "a158924a",
      "metadata": {
        "id": "a158924a"
      },
      "source": [
        "fit a linear regressor to the data. (Use both regressors - sklearn & from scratch - if you did previous part)"
      ]
    },
    {
      "cell_type": "code",
      "execution_count": 82,
      "id": "2bf0cb99",
      "metadata": {
        "id": "2bf0cb99"
      },
      "outputs": [],
      "source": [
        "from sklearn.linear_model import LinearRegression\n",
        "trained_model = LinearRegression().fit(x_train, y_train)"
      ]
    },
    {
      "cell_type": "code",
      "source": [
        "my_model = LinearRegression_()\n",
        "my_model.fit(x_train, y_train)"
      ],
      "metadata": {
        "colab": {
          "base_uri": "https://localhost:8080/"
        },
        "id": "ScCCGrOftLDr",
        "outputId": "270fec06-49b4-42c7-ca69-282854592f1d"
      },
      "id": "ScCCGrOftLDr",
      "execution_count": 83,
      "outputs": [
        {
          "output_type": "execute_result",
          "data": {
            "text/plain": [
              "<__main__.LinearRegression_ at 0x7f3a6aa463d0>"
            ]
          },
          "metadata": {},
          "execution_count": 83
        }
      ]
    },
    {
      "cell_type": "markdown",
      "id": "0604ea17",
      "metadata": {
        "id": "0604ea17"
      },
      "source": [
        "get the coefficients of the variables"
      ]
    },
    {
      "cell_type": "code",
      "execution_count": 35,
      "id": "4d6fb9a9",
      "metadata": {
        "id": "4d6fb9a9",
        "colab": {
          "base_uri": "https://localhost:8080/"
        },
        "outputId": "f325dd1b-f3ed-484a-e1b9-f9cd0ea025e7"
      },
      "outputs": [
        {
          "output_type": "stream",
          "name": "stdout",
          "text": [
            "[ 1.19082763e+04  1.22729510e+04  2.20439695e+03  1.58328855e+16\n",
            "  1.58328855e+16  1.58328855e+16  1.58328855e+16 -2.66871766e+17\n",
            " -2.66871766e+17  8.66004362e+16  8.66004362e+16]\n"
          ]
        }
      ],
      "source": [
        "print(trained_model.coef_)"
      ]
    },
    {
      "cell_type": "code",
      "source": [
        "print(my_model.weights)"
      ],
      "metadata": {
        "colab": {
          "base_uri": "https://localhost:8080/"
        },
        "id": "jKpoGNboao1I",
        "outputId": "a4c8f368-020e-4f70-f0ff-4e9344d27f7a"
      },
      "id": "jKpoGNboao1I",
      "execution_count": 37,
      "outputs": [
        {
          "output_type": "stream",
          "name": "stdout",
          "text": [
            "[11924.6401069  12167.41256821  2216.423662    2421.85484325\n",
            "  2129.3442563   1585.70798622  1554.04975553 -8119.48835014\n",
            " 15810.44519404  3978.17019156  3712.78665248]\n"
          ]
        }
      ]
    },
    {
      "cell_type": "markdown",
      "id": "a015255e",
      "metadata": {
        "id": "a015255e"
      },
      "source": [
        "get the bias value associated with the model"
      ]
    },
    {
      "cell_type": "code",
      "execution_count": 38,
      "id": "7f75a009",
      "metadata": {
        "id": "7f75a009",
        "colab": {
          "base_uri": "https://localhost:8080/"
        },
        "outputId": "84c07837-30c2-47ab-f8c6-bef994286240"
      },
      "outputs": [
        {
          "output_type": "stream",
          "name": "stdout",
          "text": [
            "1.644384441026396e+17\n"
          ]
        }
      ],
      "source": [
        "print(trained_model.intercept_)"
      ]
    },
    {
      "cell_type": "code",
      "source": [
        "print(my_model.bias)"
      ],
      "metadata": {
        "colab": {
          "base_uri": "https://localhost:8080/"
        },
        "id": "53wq-RQqaudl",
        "outputId": "f2beb55a-f607-4000-ae4a-4d8124bacb3f"
      },
      "id": "53wq-RQqaudl",
      "execution_count": 39,
      "outputs": [
        {
          "output_type": "stream",
          "name": "stdout",
          "text": [
            "0.006387670529875322\n"
          ]
        }
      ]
    },
    {
      "cell_type": "markdown",
      "id": "7e89205f",
      "metadata": {
        "id": "7e89205f"
      },
      "source": [
        "## Sec 5: Save/Load the model"
      ]
    },
    {
      "cell_type": "markdown",
      "id": "71c6d19f",
      "metadata": {
        "id": "71c6d19f"
      },
      "source": [
        "Save"
      ]
    },
    {
      "cell_type": "code",
      "execution_count": null,
      "id": "70620efe",
      "metadata": {
        "id": "70620efe",
        "colab": {
          "base_uri": "https://localhost:8080/"
        },
        "outputId": "07e16e5a-8621-4919-c0aa-a87e7e1c09a9"
      },
      "outputs": [
        {
          "output_type": "execute_result",
          "data": {
            "text/plain": [
              "['model.joblib']"
            ]
          },
          "metadata": {},
          "execution_count": 98
        }
      ],
      "source": [
        "filename = \"model.joblib\"\n",
        "dump(trained_model, filename)"
      ]
    },
    {
      "cell_type": "markdown",
      "id": "03ccb5a3",
      "metadata": {
        "id": "03ccb5a3"
      },
      "source": [
        "Load"
      ]
    },
    {
      "cell_type": "code",
      "execution_count": null,
      "id": "0f3c69a0",
      "metadata": {
        "id": "0f3c69a0"
      },
      "outputs": [],
      "source": [
        "loaded_model = load(filename)"
      ]
    },
    {
      "cell_type": "markdown",
      "id": "4fc41ff7",
      "metadata": {
        "id": "4fc41ff7"
      },
      "source": [
        "# Phase 4: Evaluation"
      ]
    },
    {
      "cell_type": "markdown",
      "id": "37c78322",
      "metadata": {
        "id": "37c78322"
      },
      "source": [
        "predict the value of \"y\" for each \"x\" belonging to the \"testing\" set"
      ]
    },
    {
      "cell_type": "code",
      "execution_count": 40,
      "id": "1ade9347",
      "metadata": {
        "id": "1ade9347"
      },
      "outputs": [],
      "source": [
        "y_prediction = trained_model.predict(x_test)\n",
        "y_prediction_my_model = my_model.predict(x_test)"
      ]
    },
    {
      "cell_type": "markdown",
      "id": "9bc059bf",
      "metadata": {
        "id": "9bc059bf"
      },
      "source": [
        "compute the mean squared error"
      ]
    },
    {
      "cell_type": "code",
      "execution_count": 41,
      "id": "c259c493",
      "metadata": {
        "id": "c259c493"
      },
      "outputs": [],
      "source": [
        "from sklearn.metrics import mean_squared_error\n",
        "\n",
        "mse_error = mean_squared_error(y_test, y_prediction)\n",
        "mse_error_my_model = mean_squared_error(y_test, y_prediction_my_model)"
      ]
    },
    {
      "cell_type": "code",
      "source": [
        "print(mse_error)\n",
        "print(mse_error_my_model)"
      ],
      "metadata": {
        "colab": {
          "base_uri": "https://localhost:8080/"
        },
        "id": "5KNSgQR5xGpy",
        "outputId": "7e857f34-a07c-46d9-b99f-4a14acb4fdd9"
      },
      "id": "5KNSgQR5xGpy",
      "execution_count": 42,
      "outputs": [
        {
          "output_type": "stream",
          "name": "stdout",
          "text": [
            "32216909.2710215\n",
            "32275883.56559308\n"
          ]
        }
      ]
    },
    {
      "cell_type": "markdown",
      "id": "04b0fe21",
      "metadata": {
        "id": "04b0fe21"
      },
      "source": [
        "return the coefficient of determination of the prediction"
      ]
    },
    {
      "cell_type": "code",
      "execution_count": 43,
      "id": "35dbdec9",
      "metadata": {
        "id": "35dbdec9",
        "colab": {
          "base_uri": "https://localhost:8080/"
        },
        "outputId": "09d21554-9f87-4924-98b7-a511d70beed7"
      },
      "outputs": [
        {
          "output_type": "stream",
          "name": "stdout",
          "text": [
            "0.7664684899657155\n"
          ]
        }
      ],
      "source": [
        "from sklearn.metrics import r2_score\n",
        "\n",
        "r2 = r2_score(y_test, y_prediction)\n",
        "print(r2)"
      ]
    },
    {
      "cell_type": "code",
      "source": [
        "r2 = r2_score(y_test, y_prediction_my_model)\n",
        "print(r2)"
      ],
      "metadata": {
        "colab": {
          "base_uri": "https://localhost:8080/"
        },
        "id": "fnB0uAx9bFY-",
        "outputId": "d2bb69fe-79de-4b1c-a7ad-200871535b32"
      },
      "id": "fnB0uAx9bFY-",
      "execution_count": 44,
      "outputs": [
        {
          "output_type": "stream",
          "name": "stdout",
          "text": [
            "0.7660410015325871\n"
          ]
        }
      ]
    },
    {
      "cell_type": "markdown",
      "id": "fd926be3",
      "metadata": {
        "id": "fd926be3"
      },
      "source": [
        "predict the value of \"y\" only for the last entry of the \"testing\" set"
      ]
    },
    {
      "cell_type": "code",
      "execution_count": 45,
      "id": "57d72609",
      "metadata": {
        "id": "57d72609"
      },
      "outputs": [],
      "source": [
        "last_x = x_test[-1:]\n",
        "last_y_prediction = trained_model.predict(last_x)"
      ]
    },
    {
      "cell_type": "code",
      "source": [
        "print(last_y_prediction)"
      ],
      "metadata": {
        "colab": {
          "base_uri": "https://localhost:8080/"
        },
        "id": "nOXsKagZ0PIi",
        "outputId": "c4e8144b-c74f-49a1-ff77-ac8078445003"
      },
      "id": "nOXsKagZ0PIi",
      "execution_count": 49,
      "outputs": [
        {
          "output_type": "stream",
          "name": "stdout",
          "text": [
            "[12672.]\n"
          ]
        }
      ]
    },
    {
      "cell_type": "code",
      "source": [
        "last_x = x_test[-1:]\n",
        "last_y_prediction_my_model = my_model.predict(last_x)"
      ],
      "metadata": {
        "id": "wWuRPN9YbN68"
      },
      "id": "wWuRPN9YbN68",
      "execution_count": 47,
      "outputs": []
    },
    {
      "cell_type": "code",
      "source": [
        "print(last_y_prediction_my_model)"
      ],
      "metadata": {
        "colab": {
          "base_uri": "https://localhost:8080/"
        },
        "id": "OcwcyRv7bPwl",
        "outputId": "dc4dc3ee-8153-49c9-cc7b-a922691db4f5"
      },
      "id": "OcwcyRv7bPwl",
      "execution_count": 48,
      "outputs": [
        {
          "output_type": "stream",
          "name": "stdout",
          "text": [
            "[12587.76482773]\n"
          ]
        }
      ]
    },
    {
      "cell_type": "markdown",
      "id": "416b6766",
      "metadata": {
        "id": "416b6766"
      },
      "source": [
        "# Phase 5 (Optional): Submit your predictions to our Kaggle competition"
      ]
    },
    {
      "cell_type": "markdown",
      "id": "e162e26a",
      "metadata": {
        "id": "e162e26a"
      },
      "source": [
        "Competition Link: https://www.kaggle.com/t/77b2fa437095401088e51c73956556ff<br>\n",
        "You'll have to make a csv file containing two columns: `ID` and `charges`, and submit the file.<br>"
      ]
    },
    {
      "cell_type": "code",
      "execution_count": 58,
      "id": "55d8ac92",
      "metadata": {
        "id": "55d8ac92",
        "colab": {
          "base_uri": "https://localhost:8080/"
        },
        "outputId": "0a22d1b2-d943-4e81-a5e4-fabbbf37203d"
      },
      "outputs": [
        {
          "output_type": "stream",
          "name": "stdout",
          "text": [
            "   age     sex        bmi  children smoker     region\n",
            "0   37  female  30.478194         1     no  southeast\n",
            "1   34  female  46.052982         2     no  southeast\n",
            "2   63    male  40.342375         0     no  southeast\n",
            "3   51  female  28.427689         0     no  southwest\n",
            "4   25    male  16.891723         0     no  northwest\n"
          ]
        }
      ],
      "source": [
        "data = pd.read_csv('/content/assignment1-test-data.csv')\n",
        "\n",
        "data = data.drop('ID', axis=1)\n",
        "\n",
        "print(data.head())"
      ]
    },
    {
      "cell_type": "code",
      "source": [
        "region_dummies = pd.get_dummies(data['region'], prefix='region')\n",
        "df_oh_region = pd.concat([data, region_dummies], axis=1)\n",
        "\n",
        "df_oh_region.drop('region', axis=1, inplace=True)\n",
        "\n",
        "print(df_oh_region.head())"
      ],
      "metadata": {
        "colab": {
          "base_uri": "https://localhost:8080/"
        },
        "id": "umeRVRp9ro8m",
        "outputId": "72043e36-26c6-461c-b22c-99480fee0f7c"
      },
      "id": "umeRVRp9ro8m",
      "execution_count": 59,
      "outputs": [
        {
          "output_type": "stream",
          "name": "stdout",
          "text": [
            "   age     sex        bmi  children smoker  region_northeast  \\\n",
            "0   37  female  30.478194         1     no                 0   \n",
            "1   34  female  46.052982         2     no                 0   \n",
            "2   63    male  40.342375         0     no                 0   \n",
            "3   51  female  28.427689         0     no                 0   \n",
            "4   25    male  16.891723         0     no                 0   \n",
            "\n",
            "   region_northwest  region_southeast  region_southwest  \n",
            "0                 0                 1                 0  \n",
            "1                 0                 1                 0  \n",
            "2                 0                 1                 0  \n",
            "3                 0                 0                 1  \n",
            "4                 1                 0                 0  \n"
          ]
        }
      ]
    },
    {
      "cell_type": "code",
      "source": [
        "region_dummies = pd.get_dummies(data['smoker'], prefix='smoker')\n",
        "df_oh_smoker = pd.concat([data, region_dummies], axis=1)\n",
        "\n",
        "df_oh_smoker.drop('smoker', axis=1, inplace=True)\n",
        "\n",
        "print(df_oh_smoker.head())"
      ],
      "metadata": {
        "colab": {
          "base_uri": "https://localhost:8080/"
        },
        "id": "-kvdWGO1r2OU",
        "outputId": "2e9f1245-d1b6-40bb-cfa0-c5e1115be79c"
      },
      "id": "-kvdWGO1r2OU",
      "execution_count": 61,
      "outputs": [
        {
          "output_type": "stream",
          "name": "stdout",
          "text": [
            "   age     sex        bmi  children     region  smoker_no  smoker_yes\n",
            "0   37  female  30.478194         1  southeast          1           0\n",
            "1   34  female  46.052982         2  southeast          1           0\n",
            "2   63    male  40.342375         0  southeast          1           0\n",
            "3   51  female  28.427689         0  southwest          1           0\n",
            "4   25    male  16.891723         0  northwest          1           0\n"
          ]
        }
      ]
    },
    {
      "cell_type": "code",
      "source": [
        "region_dummies = pd.get_dummies(data['sex'], prefix='sex')\n",
        "df_oh_sex = pd.concat([data, region_dummies], axis=1)\n",
        "\n",
        "df_oh_sex.drop('sex', axis=1, inplace=True)\n",
        "\n",
        "print(df_oh_sex.head())"
      ],
      "metadata": {
        "colab": {
          "base_uri": "https://localhost:8080/"
        },
        "id": "osP-UzQ9r497",
        "outputId": "493753ec-0e80-4914-a710-5ba4f3207617"
      },
      "id": "osP-UzQ9r497",
      "execution_count": 62,
      "outputs": [
        {
          "output_type": "stream",
          "name": "stdout",
          "text": [
            "   age        bmi  children smoker     region  sex_female  sex_male\n",
            "0   37  30.478194         1     no  southeast           1         0\n",
            "1   34  46.052982         2     no  southeast           1         0\n",
            "2   63  40.342375         0     no  southeast           0         1\n",
            "3   51  28.427689         0     no  southwest           1         0\n",
            "4   25  16.891723         0     no  northwest           0         1\n"
          ]
        }
      ]
    },
    {
      "cell_type": "code",
      "source": [
        "df_new = pd.concat([data, df_oh_region, df_oh_smoker, df_oh_sex], axis=1)\n",
        "print(df_new.head())"
      ],
      "metadata": {
        "colab": {
          "base_uri": "https://localhost:8080/"
        },
        "id": "VNkwQV-0sD-9",
        "outputId": "1a344ba4-ccfb-4eb2-91b8-ebbb9e301390"
      },
      "id": "VNkwQV-0sD-9",
      "execution_count": 63,
      "outputs": [
        {
          "output_type": "stream",
          "name": "stdout",
          "text": [
            "   age     sex        bmi  children smoker     region  age     sex        bmi  \\\n",
            "0   37  female  30.478194         1     no  southeast   37  female  30.478194   \n",
            "1   34  female  46.052982         2     no  southeast   34  female  46.052982   \n",
            "2   63    male  40.342375         0     no  southeast   63    male  40.342375   \n",
            "3   51  female  28.427689         0     no  southwest   51  female  28.427689   \n",
            "4   25    male  16.891723         0     no  northwest   25    male  16.891723   \n",
            "\n",
            "   children  ...     region  smoker_no  smoker_yes  age        bmi  children  \\\n",
            "0         1  ...  southeast          1           0   37  30.478194         1   \n",
            "1         2  ...  southeast          1           0   34  46.052982         2   \n",
            "2         0  ...  southeast          1           0   63  40.342375         0   \n",
            "3         0  ...  southwest          1           0   51  28.427689         0   \n",
            "4         0  ...  northwest          1           0   25  16.891723         0   \n",
            "\n",
            "  smoker     region  sex_female sex_male  \n",
            "0     no  southeast           1        0  \n",
            "1     no  southeast           1        0  \n",
            "2     no  southeast           0        1  \n",
            "3     no  southwest           1        0  \n",
            "4     no  northwest           0        1  \n",
            "\n",
            "[5 rows x 29 columns]\n"
          ]
        }
      ]
    },
    {
      "cell_type": "code",
      "source": [
        "df_new.drop('sex', axis=1, inplace=True)\n",
        "df_new.drop('smoker', axis=1, inplace=True)\n",
        "df_new.drop('region', axis=1, inplace=True)\n",
        "df_new = df_new.loc[:,~df_new.columns.duplicated()].copy()\n",
        "print(df_new.head())\n",
        "print(df_new.shape)"
      ],
      "metadata": {
        "colab": {
          "base_uri": "https://localhost:8080/"
        },
        "id": "RX2aQ13_sGiM",
        "outputId": "766ab007-b406-4078-e773-31e7bcff6783"
      },
      "id": "RX2aQ13_sGiM",
      "execution_count": 64,
      "outputs": [
        {
          "output_type": "stream",
          "name": "stdout",
          "text": [
            "   age        bmi  children  region_northeast  region_northwest  \\\n",
            "0   37  30.478194         1                 0                 0   \n",
            "1   34  46.052982         2                 0                 0   \n",
            "2   63  40.342375         0                 0                 0   \n",
            "3   51  28.427689         0                 0                 0   \n",
            "4   25  16.891723         0                 0                 1   \n",
            "\n",
            "   region_southeast  region_southwest  smoker_no  smoker_yes  sex_female  \\\n",
            "0                 1                 0          1           0           1   \n",
            "1                 1                 0          1           0           1   \n",
            "2                 1                 0          1           0           0   \n",
            "3                 0                 1          1           0           1   \n",
            "4                 0                 0          1           0           0   \n",
            "\n",
            "   sex_male  \n",
            "0         0  \n",
            "1         0  \n",
            "2         1  \n",
            "3         0  \n",
            "4         1  \n",
            "(100, 11)\n"
          ]
        }
      ]
    },
    {
      "cell_type": "code",
      "source": [
        "from sklearn.preprocessing import MinMaxScaler\n",
        "cols_to_normalize = ['age', 'bmi', 'children']\n",
        "\n",
        "scaler = MinMaxScaler()\n",
        "\n",
        "df_new[cols_to_normalize] = scaler.fit_transform(df_new[cols_to_normalize])\n",
        "print(df_new.head())"
      ],
      "metadata": {
        "colab": {
          "base_uri": "https://localhost:8080/"
        },
        "id": "fcOjlmNosKhz",
        "outputId": "9f2721a4-0733-4046-e286-34350f7472b8"
      },
      "id": "fcOjlmNosKhz",
      "execution_count": 65,
      "outputs": [
        {
          "output_type": "stream",
          "name": "stdout",
          "text": [
            "        age       bmi  children  region_northeast  region_northwest  \\\n",
            "0  0.434783  0.445223       0.2                 0                 0   \n",
            "1  0.369565  0.955602       0.4                 0                 0   \n",
            "2  1.000000  0.768468       0.0                 0                 0   \n",
            "3  0.739130  0.378029       0.0                 0                 0   \n",
            "4  0.173913  0.000000       0.0                 0                 1   \n",
            "\n",
            "   region_southeast  region_southwest  smoker_no  smoker_yes  sex_female  \\\n",
            "0                 1                 0          1           0           1   \n",
            "1                 1                 0          1           0           1   \n",
            "2                 1                 0          1           0           0   \n",
            "3                 0                 1          1           0           1   \n",
            "4                 0                 0          1           0           0   \n",
            "\n",
            "   sex_male  \n",
            "0         0  \n",
            "1         0  \n",
            "2         1  \n",
            "3         0  \n",
            "4         1  \n"
          ]
        }
      ]
    },
    {
      "cell_type": "code",
      "source": [
        "x = df_new.to_numpy()\n",
        "print(x.shape)"
      ],
      "metadata": {
        "colab": {
          "base_uri": "https://localhost:8080/"
        },
        "id": "5wBk8muSseag",
        "outputId": "1a3b5ad3-c27e-4810-e0a1-6ff152d7cfcf"
      },
      "id": "5wBk8muSseag",
      "execution_count": 66,
      "outputs": [
        {
          "output_type": "stream",
          "name": "stdout",
          "text": [
            "(100, 11)\n"
          ]
        }
      ]
    },
    {
      "cell_type": "code",
      "source": [
        "result = my_model.predict(x)\n",
        "print(result)"
      ],
      "metadata": {
        "colab": {
          "base_uri": "https://localhost:8080/"
        },
        "id": "mjAZ9nWjs5Mb",
        "outputId": "311f0dd4-fa2a-4f3f-908a-2de701aa8c2b"
      },
      "id": "mjAZ9nWjs5Mb",
      "execution_count": 84,
      "outputs": [
        {
          "output_type": "stream",
          "name": "stdout",
          "text": [
            "[ 8491.79533088 14353.01144265 18444.21697492 10826.14439444\n",
            "  -189.88168147 40829.79587359 25994.8287533   7580.2287407\n",
            "  1381.66411431 12167.05586932 12246.88510259 31466.98169699\n",
            "  7679.78886619 31804.56607202  8104.10169975  8857.85955117\n",
            " 11896.61156979  5294.24747362 12503.12651239 10226.64850731\n",
            " -1788.52566503 40828.90014467  8737.39265811  9356.49062559\n",
            "  4732.94797953 12479.21816008  6760.19755092 41149.76209293\n",
            "   121.20498298  1284.10325777 38175.91537948  3478.70137938\n",
            " 15470.39979164  1592.6114603    840.72407081  7781.5630248\n",
            "  9822.84319855  1250.03507854 12817.0864736  42331.17554921\n",
            " 10635.68192401  8248.62097059 19176.92907571 12976.88380655\n",
            " 37408.64826331 14438.05041091 36307.07515829  5634.19330132\n",
            " 13337.72567731  8791.72641333 41986.52807687 11021.12383729\n",
            "  6957.0689683  39808.78807645 12254.63803506 35461.13271788\n",
            " 10832.01027383  4536.12520734 15404.96821031 14924.17825433\n",
            " 15796.74710973  8419.13157067  3912.13965573  2904.53665484\n",
            " 10580.11849046 11382.24121417  5988.72350294 16470.03886318\n",
            "  5721.77055682 16097.30570518 15273.56664864  6201.73202862\n",
            "  5353.9719108  10706.92073429 13340.52711834 24844.70703285\n",
            "  8179.94949909 11372.50461572 36502.98566294  6419.3491145\n",
            "  4265.0586293  28017.86571009  1349.71744565 15039.15677515\n",
            "  2100.08103421  5491.93841026 14977.56497252  4343.95882273\n",
            "  3335.63375398  3927.30676511  4704.5239962  11237.36582827\n",
            "  4225.23318993 30794.52220847 34250.17494927 12459.41486998\n",
            "  9050.10467905 10143.59388274 24972.89789042  3323.34650771]\n"
          ]
        }
      ]
    },
    {
      "cell_type": "code",
      "source": [
        "result = trained_model.predict(x)\n",
        "print(result)"
      ],
      "metadata": {
        "colab": {
          "base_uri": "https://localhost:8080/"
        },
        "id": "nHJwv4G8dDgz",
        "outputId": "3486665e-6a20-45e3-c1a8-7a4c0e20eb4b"
      },
      "id": "nHJwv4G8dDgz",
      "execution_count": 74,
      "outputs": [
        {
          "output_type": "stream",
          "name": "stdout",
          "text": [
            "[ 8512. 14464. 18496. 10880.  -192. 40832. 25888.  7616.  1408. 12224.\n",
            " 12352. 31360.  7712. 31808.  8128.  8832. 11904.  5312. 12512. 10304.\n",
            " -1792. 40864.  8832.  9408.  4736. 12512.  6848. 41120.    96.  1344.\n",
            " 38144.  3520. 15488.  1600.   864.  7840.  9792.  1280. 12864. 42304.\n",
            " 10656.  8288. 19264. 12992. 37408. 14464. 36320.  5696. 13376.  8832.\n",
            " 41952. 11072.  7040. 39712. 12352. 35392. 10880.  4576. 15520. 14976.\n",
            " 15872.  8448.  3968.  2944. 10624. 11456.  6080. 16576.  5760. 16160.\n",
            " 15296.  6208.  5440. 10752. 13376. 24768.  8192. 11456. 36448.  6464.\n",
            "  4288. 27936.  1344. 15040.  2176.  5536. 15008.  4352.  3392.  3968.\n",
            "  4736. 11264.  4224. 30720. 34176. 12480.  9088. 10176. 24928.  3392.]\n"
          ]
        }
      ]
    },
    {
      "cell_type": "code",
      "source": [
        "print(result.shape)"
      ],
      "metadata": {
        "colab": {
          "base_uri": "https://localhost:8080/"
        },
        "id": "-VJpk8_cynIL",
        "outputId": "ddabaa98-d808-4ee1-f2f4-8abe8d77e2b3"
      },
      "id": "-VJpk8_cynIL",
      "execution_count": 75,
      "outputs": [
        {
          "output_type": "stream",
          "name": "stdout",
          "text": [
            "(100,)\n"
          ]
        }
      ]
    },
    {
      "cell_type": "code",
      "source": [
        "id = np.arange(1, 101, dtype=np.int32)\n",
        "print(type(id[0]))"
      ],
      "metadata": {
        "colab": {
          "base_uri": "https://localhost:8080/"
        },
        "id": "fXDRyfsEzwO5",
        "outputId": "2e6ec270-16b6-4753-e2c5-cab4396c04ca"
      },
      "id": "fXDRyfsEzwO5",
      "execution_count": 76,
      "outputs": [
        {
          "output_type": "stream",
          "name": "stdout",
          "text": [
            "<class 'numpy.int32'>\n"
          ]
        }
      ]
    },
    {
      "cell_type": "code",
      "source": [
        "concatenated_array = np.concatenate((id.reshape(-1,1), result.reshape(-1,1)), axis=1)\n",
        "\n",
        "# Create a DataFrame from the concatenated array\n",
        "df_ = pd.DataFrame(concatenated_array, columns=['ID', 'charges'])\n",
        "print(df_)\n"
      ],
      "metadata": {
        "colab": {
          "base_uri": "https://localhost:8080/"
        },
        "id": "hMurPttE0DcO",
        "outputId": "4a06bf4e-5fe1-4f12-af4a-654166f00cef"
      },
      "id": "hMurPttE0DcO",
      "execution_count": 85,
      "outputs": [
        {
          "output_type": "stream",
          "name": "stdout",
          "text": [
            "       ID       charges\n",
            "0     1.0   8491.795331\n",
            "1     2.0  14353.011443\n",
            "2     3.0  18444.216975\n",
            "3     4.0  10826.144394\n",
            "4     5.0   -189.881681\n",
            "..    ...           ...\n",
            "95   96.0  12459.414870\n",
            "96   97.0   9050.104679\n",
            "97   98.0  10143.593883\n",
            "98   99.0  24972.897890\n",
            "99  100.0   3323.346508\n",
            "\n",
            "[100 rows x 2 columns]\n"
          ]
        }
      ]
    },
    {
      "cell_type": "code",
      "source": [
        "df_['ID'] = df_['ID'].astype('int32')"
      ],
      "metadata": {
        "id": "FQ5AriAP6dHb"
      },
      "id": "FQ5AriAP6dHb",
      "execution_count": 86,
      "outputs": []
    },
    {
      "cell_type": "code",
      "source": [
        "resulta = df_.dtypes\n",
        "\n",
        "print(\"Output:\")\n",
        "print(resulta)"
      ],
      "metadata": {
        "colab": {
          "base_uri": "https://localhost:8080/"
        },
        "id": "NwhovY6K535A",
        "outputId": "2f7c3d80-e960-4cc0-f776-693b2f3bb4f4"
      },
      "id": "NwhovY6K535A",
      "execution_count": 87,
      "outputs": [
        {
          "output_type": "stream",
          "name": "stdout",
          "text": [
            "Output:\n",
            "ID           int32\n",
            "charges    float64\n",
            "dtype: object\n"
          ]
        }
      ]
    },
    {
      "cell_type": "code",
      "source": [
        "df_.to_csv('output_.csv', index=False)"
      ],
      "metadata": {
        "id": "ut1L-guX123n"
      },
      "id": "ut1L-guX123n",
      "execution_count": 88,
      "outputs": []
    }
  ],
  "metadata": {
    "kernelspec": {
      "display_name": "Python 3 (ipykernel)",
      "language": "python",
      "name": "python3"
    },
    "language_info": {
      "codemirror_mode": {
        "name": "ipython",
        "version": 3
      },
      "file_extension": ".py",
      "mimetype": "text/x-python",
      "name": "python",
      "nbconvert_exporter": "python",
      "pygments_lexer": "ipython3",
      "version": "3.10.0"
    },
    "colab": {
      "provenance": []
    }
  },
  "nbformat": 4,
  "nbformat_minor": 5
}